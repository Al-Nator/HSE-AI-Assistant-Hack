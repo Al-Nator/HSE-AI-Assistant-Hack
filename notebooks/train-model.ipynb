{
 "cells": [
  {
   "cell_type": "code",
   "execution_count": 1,
   "metadata": {},
   "outputs": [],
   "source": [
    "import pandas as pd\n",
    "from sklearn.model_selection import train_test_split"
   ]
  },
  {
   "cell_type": "code",
   "execution_count": 2,
   "metadata": {},
   "outputs": [],
   "source": [
    "solutions_train = pd.read_excel('./../data/raw/train/solutions.xlsx')\n",
    "tasks_train = pd.read_excel('./../data/raw/train/tasks.xlsx')\n",
    "tests_train = pd.read_excel('./../data/raw/train/tests.xlsx')\n",
    "\n",
    "solutions_test = pd.read_excel('./../data/raw/test/solutions.xlsx')\n",
    "tasks_test = pd.read_excel('./../data/raw/test/tasks.xlsx')\n",
    "tests_test = pd.read_excel('./../data/raw/test/tests.xlsx')"
   ]
  },
  {
   "cell_type": "code",
   "execution_count": 3,
   "metadata": {},
   "outputs": [
    {
     "data": {
      "text/html": [
       "<div>\n",
       "<style scoped>\n",
       "    .dataframe tbody tr th:only-of-type {\n",
       "        vertical-align: middle;\n",
       "    }\n",
       "\n",
       "    .dataframe tbody tr th {\n",
       "        vertical-align: top;\n",
       "    }\n",
       "\n",
       "    .dataframe thead th {\n",
       "        text-align: right;\n",
       "    }\n",
       "</style>\n",
       "<table border=\"1\" class=\"dataframe\">\n",
       "  <thead>\n",
       "    <tr style=\"text-align: right;\">\n",
       "      <th></th>\n",
       "      <th>id</th>\n",
       "      <th>task_id</th>\n",
       "      <th>student_solution</th>\n",
       "      <th>author_comment</th>\n",
       "      <th>author_comment_embedding</th>\n",
       "      <th>level</th>\n",
       "      <th>description</th>\n",
       "      <th>author_solution</th>\n",
       "      <th>unit_true</th>\n",
       "      <th>system</th>\n",
       "    </tr>\n",
       "  </thead>\n",
       "  <tbody>\n",
       "    <tr>\n",
       "      <th>0</th>\n",
       "      <td>13</td>\n",
       "      <td>1</td>\n",
       "      <td>logo_project = ['#a7a8f0', '#a7f0ca', '#b3b4e4...</td>\n",
       "      <td>Ошибка в открытых тестах. \\n\\nОбратите внимани...</td>\n",
       "      <td>-0.2475823611021042 -1.3317935466766357 0.2535...</td>\n",
       "      <td>B</td>\n",
       "      <td>Реализуйте программу, которая проверит, что цв...</td>\n",
       "      <td>logo_project = ['#a7a8f0', '#a7f0ca', '#b3b4e4...</td>\n",
       "      <td>Тип теста    Вход Верный вывод программы\\n    ...</td>\n",
       "      <td>Вы учитель и вы должны на русском языке давать...</td>\n",
       "    </tr>\n",
       "    <tr>\n",
       "      <th>1</th>\n",
       "      <td>14</td>\n",
       "      <td>1</td>\n",
       "      <td>logo_project = ['#a7a8f0', '#a7f0ca', '#b3b4e4...</td>\n",
       "      <td>Ошибка в открытых тестах. \\n\\nОбратите внимани...</td>\n",
       "      <td>-0.25970256328582764 -1.4550446271896362 0.333...</td>\n",
       "      <td>B</td>\n",
       "      <td>Реализуйте программу, которая проверит, что цв...</td>\n",
       "      <td>logo_project = ['#a7a8f0', '#a7f0ca', '#b3b4e4...</td>\n",
       "      <td>Тип теста    Вход Верный вывод программы\\n    ...</td>\n",
       "      <td>Вы учитель и вы должны на русском языке давать...</td>\n",
       "    </tr>\n",
       "    <tr>\n",
       "      <th>2</th>\n",
       "      <td>15</td>\n",
       "      <td>1</td>\n",
       "      <td>logo_project = ['#a7a8f0', '#a7f0ca', '#b3b4e4...</td>\n",
       "      <td>Ошибка в открытых тестах. \\n\\nОбратите внимани...</td>\n",
       "      <td>-0.28293243050575256 -1.4774413108825684 0.243...</td>\n",
       "      <td>B</td>\n",
       "      <td>Реализуйте программу, которая проверит, что цв...</td>\n",
       "      <td>logo_project = ['#a7a8f0', '#a7f0ca', '#b3b4e4...</td>\n",
       "      <td>Тип теста    Вход Верный вывод программы\\n    ...</td>\n",
       "      <td>Вы учитель и вы должны на русском языке давать...</td>\n",
       "    </tr>\n",
       "  </tbody>\n",
       "</table>\n",
       "</div>"
      ],
      "text/plain": [
       "   id  task_id                                   student_solution  \\\n",
       "0  13        1  logo_project = ['#a7a8f0', '#a7f0ca', '#b3b4e4...   \n",
       "1  14        1  logo_project = ['#a7a8f0', '#a7f0ca', '#b3b4e4...   \n",
       "2  15        1  logo_project = ['#a7a8f0', '#a7f0ca', '#b3b4e4...   \n",
       "\n",
       "                                      author_comment  \\\n",
       "0  Ошибка в открытых тестах. \\n\\nОбратите внимани...   \n",
       "1  Ошибка в открытых тестах. \\n\\nОбратите внимани...   \n",
       "2  Ошибка в открытых тестах. \\n\\nОбратите внимани...   \n",
       "\n",
       "                            author_comment_embedding level  \\\n",
       "0  -0.2475823611021042 -1.3317935466766357 0.2535...     B   \n",
       "1  -0.25970256328582764 -1.4550446271896362 0.333...     B   \n",
       "2  -0.28293243050575256 -1.4774413108825684 0.243...     B   \n",
       "\n",
       "                                         description  \\\n",
       "0  Реализуйте программу, которая проверит, что цв...   \n",
       "1  Реализуйте программу, которая проверит, что цв...   \n",
       "2  Реализуйте программу, которая проверит, что цв...   \n",
       "\n",
       "                                     author_solution  \\\n",
       "0  logo_project = ['#a7a8f0', '#a7f0ca', '#b3b4e4...   \n",
       "1  logo_project = ['#a7a8f0', '#a7f0ca', '#b3b4e4...   \n",
       "2  logo_project = ['#a7a8f0', '#a7f0ca', '#b3b4e4...   \n",
       "\n",
       "                                           unit_true  \\\n",
       "0  Тип теста    Вход Верный вывод программы\\n    ...   \n",
       "1  Тип теста    Вход Верный вывод программы\\n    ...   \n",
       "2  Тип теста    Вход Верный вывод программы\\n    ...   \n",
       "\n",
       "                                              system  \n",
       "0  Вы учитель и вы должны на русском языке давать...  \n",
       "1  Вы учитель и вы должны на русском языке давать...  \n",
       "2  Вы учитель и вы должны на русском языке давать...  "
      ]
     },
     "execution_count": 3,
     "metadata": {},
     "output_type": "execute_result"
    }
   ],
   "source": [
    "df_train = solutions_train.merge(tasks_train.rename(columns={'id': 'task_id'}), on='task_id', how='left')\n",
    "df_test = solutions_test.merge(tasks_test.rename(columns={'id': 'task_id'}), on='task_id', how='left')\n",
    "\n",
    "unit_map_train = lambda row: tests_train[tests_train['task_id'] == row.task_id][['type', 'input', 'output']] \\\n",
    "    .rename(columns={'type': 'Тип теста', 'input': 'Вход', 'output': 'Верный вывод программы'}) \\\n",
    "    .to_string(index=False)\n",
    "unit_map_test = lambda row: tests_test[tests_test['task_id'] == row.task_id][['type', 'input', 'output']] \\\n",
    "    .rename(columns={'type': 'Тип теста', 'input': 'Вход', 'output': 'Верный вывод программы'}) \\\n",
    "    .to_string(index=False)\n",
    "\n",
    "df_train['unit_true'] = df_train.apply(unit_map_train, axis=1)\n",
    "df_test['unit_true'] = df_test.apply(unit_map_test, axis=1)\n",
    "df_test['author_comment'] = ''\n",
    "\n",
    "system = 'Вы учитель и вы должны на русском языке давать подсказки без прямых исправлений кода, поддерживая формальный и дружелюбный стиль общения'\n",
    "df_train['system'] = df_test['system'] = system\n",
    "\n",
    "df_train_train, df_train_test = train_test_split(df_train, test_size=0.1, random_state=42)\n",
    "df_train_train.to_csv('./../data/raw/train/data_full_train.csv')\n",
    "df_train_test.to_csv('./../data/raw/train/data_full_test.csv')\n",
    "df_test.to_csv('./../data/raw/test/data_full.csv')\n",
    "\n",
    "df_train.head(3)"
   ]
  },
  {
   "cell_type": "code",
   "execution_count": 4,
   "metadata": {},
   "outputs": [
    {
     "name": "stdout",
     "output_type": "stream",
     "text": [
      "### INSTRUCTION:\n",
      "Вы учитель и вы должны на русском языке давать подсказки без прямых исправлений кода, поддерживая формальный и дружелюбный стиль общения\n",
      "\n",
      "### ОСНОВНАЯ ЗАДАЧА ДЛЯ СТУДЕНТА:\n",
      "Реализуйте программу, которая проверит, что цвет используется только в проекте по созданию логотипа, но не в проекте по созданию дизайна сайта:\n",
      "\n",
      "Даны два списка logo_project и cite_project с кодами используемых цветов (строки).\n",
      "В переменную color считывается код цвета (строка). Этот код уже написан.\n",
      "Программа должна проверять, что код цвета color есть только в списке logo_project, и если да, то печатать True. \n",
      "В остальных случаях программа печатает False. \n",
      "\n",
      "### ВЕРНОЕ РЕШЕНИЕ АВТОРА:\n",
      "```python\n",
      "logo_project = ['#a7a8f0', '#a7f0ca', '#b3b4e4', '#e4b3cd', '#e4e3b3', '#c0ced7']\n",
      "cite_project = ['#e4e3b3', '#a7a8f0', '#ccb1e6', '#b4f99e', '#f9b59e', '#c0ced7']\n",
      "\n",
      "color = input()\n",
      "\n",
      "if color in logo_project and not(color in cite_project):\n",
      "    print(True)\n",
      "else:\n",
      "    print(False)\n",
      "```\n",
      "\n",
      "### ВЕРНЫЕ ОТВЕТЫ НА UNIT ТЕСТЫ:\n",
      "Тип теста    Вход Верный вывод программы\n",
      "     open #a7f0ca                   True\n",
      "     open #e4e3b3                  False\n",
      "     open #a7a8f0                  False\n",
      "   closed #c0ced7                  False\n",
      "   closed #a7f0ca                   True\n",
      "\n",
      "### НЕВЕРНОЕ РЕШЕНИЕ СТУДЕНТА:\n",
      "```python\n",
      "logo_project = ['#a7a8f0', '#a7f0ca', '#b3b4e4', '#e4b3cd', '#e4e3b3', '#c0ced7']\n",
      "cite_project = ['#e4e3b3', '#a7a8f0', '#ccb1e6', '#b4f99e', '#f9b59e', '#c0ced7']\n",
      "\n",
      "color = input()\n",
      "\n",
      "if color in logo_project and color in cite_project:\n",
      "    print(True)\n",
      "else:\n",
      "    print(False)\n",
      "```\n",
      "\n",
      "### КОММЕНТАРИИ К НЕВЕРНОМУ РЕШЕНИЮ:\n",
      "Ошибка в открытых тестах. \n",
      "\n",
      "Обратите внимание на неверный оператор сравнения — необходимо проверить, что цвет не находится в списке cite_project.\n"
     ]
    }
   ],
   "source": [
    "row = df_train.iloc[0]\n",
    "prompt = '''### INSTRUCTION:\n",
    "{}\n",
    "\n",
    "### ОСНОВНАЯ ЗАДАЧА ДЛЯ СТУДЕНТА:\n",
    "{}\n",
    "\n",
    "### ВЕРНОЕ РЕШЕНИЕ АВТОРА:\n",
    "```python\n",
    "{}\n",
    "```\n",
    "\n",
    "### ВЕРНЫЕ ОТВЕТЫ НА UNIT ТЕСТЫ:\n",
    "{}\n",
    "\n",
    "### НЕВЕРНОЕ РЕШЕНИЕ СТУДЕНТА:\n",
    "```python\n",
    "{}\n",
    "```\n",
    "\n",
    "### КОММЕНТАРИИ К НЕВЕРНОМУ РЕШЕНИЮ:\n",
    "{}'''\n",
    "model_input = prompt.format(*row[['system', 'description', 'author_solution', 'unit_true', 'student_solution', 'author_comment']])\n",
    "print(model_input)"
   ]
  },
  {
   "cell_type": "code",
   "execution_count": 5,
   "metadata": {},
   "outputs": [
    {
     "name": "stdout",
     "output_type": "stream",
     "text": [
      "🦥 Unsloth: Will patch your computer to enable 2x faster free finetuning.\n"
     ]
    }
   ],
   "source": [
    "from unsloth import FastLanguageModel\n",
    "import torch\n",
    "import os, dotenv\n",
    "dotenv.load_dotenv()\n",
    "max_seq_length = 2048\n",
    "dtype = None\n",
    "load_in_4bit = True"
   ]
  },
  {
   "cell_type": "code",
   "execution_count": 6,
   "metadata": {},
   "outputs": [
    {
     "name": "stdout",
     "output_type": "stream",
     "text": [
      "==((====))==  Unsloth 2024.9.post4: Fast Gemma2 patching. Transformers = 4.45.1.\n",
      "   \\\\   /|    GPU: NVIDIA GeForce RTX 4090. Max memory: 23.551 GB. Platform = Linux.\n",
      "O^O/ \\_/ \\    Pytorch: 2.4.0+cu121. CUDA = 8.9. CUDA Toolkit = 12.1.\n",
      "\\        /    Bfloat16 = TRUE. FA [Xformers = 0.0.27.post2. FA2 = True]\n",
      " \"-____-\"     Free Apache license: http://github.com/unslothai/unsloth\n"
     ]
    }
   ],
   "source": [
    "model, tokenizer = FastLanguageModel.from_pretrained(\n",
    "    model_name = \"google/gemma-2-9b-it\",\n",
    "    max_seq_length = max_seq_length,\n",
    "    dtype = dtype,\n",
    "    load_in_4bit = load_in_4bit,\n",
    "    # token = \"hf_...\",\n",
    ")"
   ]
  },
  {
   "cell_type": "code",
   "execution_count": 7,
   "metadata": {},
   "outputs": [
    {
     "name": "stderr",
     "output_type": "stream",
     "text": [
      "Unsloth 2024.9.post4 patched 42 layers with 42 QKV layers, 42 O layers and 42 MLP layers.\n"
     ]
    }
   ],
   "source": [
    "model = FastLanguageModel.get_peft_model(\n",
    "    model,\n",
    "    r = 16,\n",
    "    target_modules = [\"q_proj\", \"k_proj\", \"v_proj\", \"o_proj\",\n",
    "                      \"gate_proj\", \"up_proj\", \"down_proj\",],\n",
    "    lora_alpha = 128,\n",
    "    lora_dropout = 0,\n",
    "    bias = \"none\",\n",
    "    use_gradient_checkpointing = \"unsloth\",\n",
    "    random_state = 3407,\n",
    "    use_rslora = False,\n",
    "    loftq_config = None,\n",
    ")"
   ]
  },
  {
   "cell_type": "code",
   "execution_count": 8,
   "metadata": {},
   "outputs": [
    {
     "data": {
      "application/vnd.jupyter.widget-view+json": {
       "model_id": "195630c0dc9f4904994e94b4bb9237e9",
       "version_major": 2,
       "version_minor": 0
      },
      "text/plain": [
       "Generating train split: 0 examples [00:00, ? examples/s]"
      ]
     },
     "metadata": {},
     "output_type": "display_data"
    },
    {
     "data": {
      "application/vnd.jupyter.widget-view+json": {
       "model_id": "fb6bc4b24dd34bc4b19fef2a7142e3b9",
       "version_major": 2,
       "version_minor": 0
      },
      "text/plain": [
       "Generating test split: 0 examples [00:00, ? examples/s]"
      ]
     },
     "metadata": {},
     "output_type": "display_data"
    },
    {
     "data": {
      "application/vnd.jupyter.widget-view+json": {
       "model_id": "9b5c622858214d60bcf821ee1abf6f11",
       "version_major": 2,
       "version_minor": 0
      },
      "text/plain": [
       "Map:   0%|          | 0/312 [00:00<?, ? examples/s]"
      ]
     },
     "metadata": {},
     "output_type": "display_data"
    },
    {
     "data": {
      "application/vnd.jupyter.widget-view+json": {
       "model_id": "68d856dae4df4c0aa7a14433c126fce8",
       "version_major": 2,
       "version_minor": 0
      },
      "text/plain": [
       "Map:   0%|          | 0/35 [00:00<?, ? examples/s]"
      ]
     },
     "metadata": {},
     "output_type": "display_data"
    }
   ],
   "source": [
    "EOS_TOKEN = tokenizer.eos_token\n",
    "def formatting_prompts_func(examples):\n",
    "    texts = []\n",
    "    for system, description, author_solution, unit_true, student_solution, author_comment in zip(\n",
    "            examples['system'], \n",
    "            examples['description'], \n",
    "            examples['author_solution'], \n",
    "            examples['unit_true'], \n",
    "            examples['student_solution'],\n",
    "            examples['author_comment']):\n",
    "        text = prompt.format(system, description, author_solution, unit_true, student_solution, author_comment) + EOS_TOKEN\n",
    "        texts.append(text)\n",
    "    return {\"text\": texts}\n",
    "\n",
    "from datasets import load_dataset\n",
    "data_files = {\n",
    "    'train': './../data/raw/train/data_full_train.csv',\n",
    "    'test': './../data/raw/train/data_full_test.csv'\n",
    "}\n",
    "dataset = load_dataset('csv', data_files=data_files)\n",
    "dataset = dataset.map(formatting_prompts_func, batched = True)"
   ]
  },
  {
   "cell_type": "code",
   "execution_count": 9,
   "metadata": {},
   "outputs": [
    {
     "data": {
      "application/vnd.jupyter.widget-view+json": {
       "model_id": "8ce04c387fe24e1bb3287956c09eb67b",
       "version_major": 2,
       "version_minor": 0
      },
      "text/plain": [
       "Map (num_proc=2):   0%|          | 0/312 [00:00<?, ? examples/s]"
      ]
     },
     "metadata": {},
     "output_type": "display_data"
    },
    {
     "data": {
      "application/vnd.jupyter.widget-view+json": {
       "model_id": "e7c8fbffa16b4c0ba1f7a43b9a72ea60",
       "version_major": 2,
       "version_minor": 0
      },
      "text/plain": [
       "Map (num_proc=2):   0%|          | 0/35 [00:00<?, ? examples/s]"
      ]
     },
     "metadata": {},
     "output_type": "display_data"
    }
   ],
   "source": [
    "from trl import SFTTrainer\n",
    "from transformers import TrainingArguments\n",
    "from unsloth import is_bfloat16_supported\n",
    "\n",
    "trainer = SFTTrainer(\n",
    "    model = model,\n",
    "    tokenizer = tokenizer,\n",
    "    train_dataset = dataset['train'],\n",
    "    eval_dataset = dataset['test'],\n",
    "    dataset_text_field = \"text\",\n",
    "    max_seq_length = max_seq_length,\n",
    "    dataset_num_proc = 2,\n",
    "    packing = False,\n",
    "    args = TrainingArguments(\n",
    "        num_train_epochs=12,\n",
    "        per_device_train_batch_size = 4,\n",
    "        per_device_eval_batch_size = 2,\n",
    "        gradient_accumulation_steps = 2,\n",
    "        warmup_steps = 10,\n",
    "        learning_rate = 5e-5,\n",
    "        fp16 = not is_bfloat16_supported(),\n",
    "        bf16 = is_bfloat16_supported(),\n",
    "        logging_steps = 1,\n",
    "        optim = \"adamw_8bit\",\n",
    "        weight_decay = 0.0025,\n",
    "        lr_scheduler_type = \"linear\",\n",
    "        seed = 3407,\n",
    "        output_dir = \"outputs\",\n",
    "\n",
    "        load_best_model_at_end = True,\n",
    "        greater_is_better=False,\n",
    "        eval_steps=9,\n",
    "        save_steps=9,\n",
    "        eval_strategy=\"steps\",\n",
    "        save_strategy=\"steps\",\n",
    "    ),\n",
    ")"
   ]
  },
  {
   "cell_type": "code",
   "execution_count": 10,
   "metadata": {},
   "outputs": [
    {
     "name": "stderr",
     "output_type": "stream",
     "text": [
      "==((====))==  Unsloth - 2x faster free finetuning | Num GPUs = 1\n",
      "   \\\\   /|    Num examples = 312 | Num Epochs = 12\n",
      "O^O/ \\_/ \\    Batch size per device = 4 | Gradient Accumulation steps = 2\n",
      "\\        /    Total batch size = 8 | Total steps = 468\n",
      " \"-____-\"     Number of trainable parameters = 54,018,048\n"
     ]
    },
    {
     "data": {
      "application/vnd.jupyter.widget-view+json": {
       "model_id": "b2f7a9625a2a427897f962482c52e1b0",
       "version_major": 2,
       "version_minor": 0
      },
      "text/plain": [
       "  0%|          | 0/468 [00:00<?, ?it/s]"
      ]
     },
     "metadata": {},
     "output_type": "display_data"
    },
    {
     "name": "stdout",
     "output_type": "stream",
     "text": [
      "{'loss': 1.6202, 'grad_norm': 5.124875545501709, 'learning_rate': 5e-06, 'epoch': 0.03}\n",
      "{'loss': 1.6549, 'grad_norm': 4.661335468292236, 'learning_rate': 1e-05, 'epoch': 0.05}\n",
      "{'loss': 1.7256, 'grad_norm': 4.582201957702637, 'learning_rate': 1.5e-05, 'epoch': 0.08}\n",
      "{'loss': 1.8302, 'grad_norm': 4.539109706878662, 'learning_rate': 2e-05, 'epoch': 0.1}\n",
      "{'loss': 1.4906, 'grad_norm': 3.710376739501953, 'learning_rate': 2.5e-05, 'epoch': 0.13}\n",
      "{'loss': 1.3346, 'grad_norm': 2.391968250274658, 'learning_rate': 3e-05, 'epoch': 0.15}\n",
      "{'loss': 1.2545, 'grad_norm': 4.084812164306641, 'learning_rate': 3.5e-05, 'epoch': 0.18}\n",
      "{'loss': 1.14, 'grad_norm': 2.6466970443725586, 'learning_rate': 4e-05, 'epoch': 0.21}\n",
      "{'loss': 1.1816, 'grad_norm': 2.5857391357421875, 'learning_rate': 4.5e-05, 'epoch': 0.23}\n"
     ]
    },
    {
     "data": {
      "application/vnd.jupyter.widget-view+json": {
       "model_id": "0c2a2b07ff254bc2836e3b9dcd989bc4",
       "version_major": 2,
       "version_minor": 0
      },
      "text/plain": [
       "  0%|          | 0/18 [00:00<?, ?it/s]"
      ]
     },
     "metadata": {},
     "output_type": "display_data"
    },
    {
     "name": "stdout",
     "output_type": "stream",
     "text": [
      "{'eval_loss': 1.0954420566558838, 'eval_runtime': 12.6418, 'eval_samples_per_second': 2.769, 'eval_steps_per_second': 1.424, 'epoch': 0.23}\n",
      "{'loss': 1.0171, 'grad_norm': 2.5206782817840576, 'learning_rate': 5e-05, 'epoch': 0.26}\n",
      "{'loss': 1.0224, 'grad_norm': 2.501950263977051, 'learning_rate': 4.989082969432315e-05, 'epoch': 0.28}\n",
      "{'loss': 0.9146, 'grad_norm': 1.8020570278167725, 'learning_rate': 4.978165938864629e-05, 'epoch': 0.31}\n",
      "{'loss': 0.9086, 'grad_norm': 2.130194664001465, 'learning_rate': 4.967248908296944e-05, 'epoch': 0.33}\n",
      "{'loss': 0.6462, 'grad_norm': 1.4950077533721924, 'learning_rate': 4.956331877729258e-05, 'epoch': 0.36}\n",
      "{'loss': 0.7212, 'grad_norm': 1.6372754573822021, 'learning_rate': 4.945414847161572e-05, 'epoch': 0.38}\n",
      "{'loss': 0.4618, 'grad_norm': 1.7959424257278442, 'learning_rate': 4.9344978165938866e-05, 'epoch': 0.41}\n",
      "{'loss': 0.4994, 'grad_norm': 2.0408594608306885, 'learning_rate': 4.923580786026201e-05, 'epoch': 0.44}\n",
      "{'loss': 0.6286, 'grad_norm': 1.8114603757858276, 'learning_rate': 4.912663755458515e-05, 'epoch': 0.46}\n"
     ]
    },
    {
     "data": {
      "application/vnd.jupyter.widget-view+json": {
       "model_id": "f93b7724fe23494dbf6aa8ef616fc9b7",
       "version_major": 2,
       "version_minor": 0
      },
      "text/plain": [
       "  0%|          | 0/18 [00:00<?, ?it/s]"
      ]
     },
     "metadata": {},
     "output_type": "display_data"
    },
    {
     "name": "stdout",
     "output_type": "stream",
     "text": [
      "{'eval_loss': 0.5344597697257996, 'eval_runtime': 7.8903, 'eval_samples_per_second': 4.436, 'eval_steps_per_second': 2.281, 'epoch': 0.46}\n",
      "{'loss': 0.5565, 'grad_norm': 1.923843264579773, 'learning_rate': 4.90174672489083e-05, 'epoch': 0.49}\n",
      "{'loss': 0.4922, 'grad_norm': 1.6176567077636719, 'learning_rate': 4.890829694323144e-05, 'epoch': 0.51}\n",
      "{'loss': 0.4451, 'grad_norm': 1.632754921913147, 'learning_rate': 4.879912663755459e-05, 'epoch': 0.54}\n",
      "{'loss': 0.2869, 'grad_norm': 1.4944521188735962, 'learning_rate': 4.868995633187774e-05, 'epoch': 0.56}\n",
      "{'loss': 0.3734, 'grad_norm': 2.447873830795288, 'learning_rate': 4.858078602620087e-05, 'epoch': 0.59}\n",
      "{'loss': 0.3353, 'grad_norm': 1.665473461151123, 'learning_rate': 4.847161572052402e-05, 'epoch': 0.62}\n",
      "{'loss': 0.3922, 'grad_norm': 2.2495274543762207, 'learning_rate': 4.8362445414847165e-05, 'epoch': 0.64}\n",
      "{'loss': 0.2278, 'grad_norm': 1.903831958770752, 'learning_rate': 4.825327510917031e-05, 'epoch': 0.67}\n",
      "{'loss': 0.216, 'grad_norm': 1.8136870861053467, 'learning_rate': 4.814410480349345e-05, 'epoch': 0.69}\n"
     ]
    },
    {
     "data": {
      "application/vnd.jupyter.widget-view+json": {
       "model_id": "33ecd8801b704c7cbeeacfc0097fcd59",
       "version_major": 2,
       "version_minor": 0
      },
      "text/plain": [
       "  0%|          | 0/18 [00:00<?, ?it/s]"
      ]
     },
     "metadata": {},
     "output_type": "display_data"
    },
    {
     "name": "stdout",
     "output_type": "stream",
     "text": [
      "{'eval_loss': 0.25427454710006714, 'eval_runtime': 7.9089, 'eval_samples_per_second': 4.425, 'eval_steps_per_second': 2.276, 'epoch': 0.69}\n",
      "{'loss': 0.379, 'grad_norm': 2.380333423614502, 'learning_rate': 4.8034934497816594e-05, 'epoch': 0.72}\n",
      "{'loss': 0.1878, 'grad_norm': 1.680693507194519, 'learning_rate': 4.792576419213974e-05, 'epoch': 0.74}\n",
      "{'loss': 0.2181, 'grad_norm': 1.9077891111373901, 'learning_rate': 4.7816593886462886e-05, 'epoch': 0.77}\n",
      "{'loss': 0.2288, 'grad_norm': 1.1620781421661377, 'learning_rate': 4.770742358078603e-05, 'epoch': 0.79}\n",
      "{'loss': 0.2211, 'grad_norm': 3.954874277114868, 'learning_rate': 4.759825327510917e-05, 'epoch': 0.82}\n",
      "{'loss': 0.2098, 'grad_norm': 1.5801026821136475, 'learning_rate': 4.748908296943232e-05, 'epoch': 0.85}\n",
      "{'loss': 0.208, 'grad_norm': 2.7691102027893066, 'learning_rate': 4.737991266375546e-05, 'epoch': 0.87}\n",
      "{'loss': 0.1626, 'grad_norm': 1.5059643983840942, 'learning_rate': 4.727074235807861e-05, 'epoch': 0.9}\n",
      "{'loss': 0.1194, 'grad_norm': 2.146815776824951, 'learning_rate': 4.716157205240175e-05, 'epoch': 0.92}\n"
     ]
    },
    {
     "data": {
      "application/vnd.jupyter.widget-view+json": {
       "model_id": "03c9ea264400425a95487ed7801277a7",
       "version_major": 2,
       "version_minor": 0
      },
      "text/plain": [
       "  0%|          | 0/18 [00:00<?, ?it/s]"
      ]
     },
     "metadata": {},
     "output_type": "display_data"
    },
    {
     "name": "stdout",
     "output_type": "stream",
     "text": [
      "{'eval_loss': 0.11021316796541214, 'eval_runtime': 7.9445, 'eval_samples_per_second': 4.406, 'eval_steps_per_second': 2.266, 'epoch': 0.92}\n",
      "{'loss': 0.0937, 'grad_norm': 2.2375524044036865, 'learning_rate': 4.705240174672489e-05, 'epoch': 0.95}\n",
      "{'loss': 0.1009, 'grad_norm': 1.430152416229248, 'learning_rate': 4.6943231441048036e-05, 'epoch': 0.97}\n",
      "{'loss': 0.0978, 'grad_norm': 1.502856731414795, 'learning_rate': 4.6834061135371185e-05, 'epoch': 1.0}\n",
      "{'loss': 0.0567, 'grad_norm': 1.3870849609375, 'learning_rate': 4.672489082969432e-05, 'epoch': 1.03}\n",
      "{'loss': 0.0566, 'grad_norm': 1.9049993753433228, 'learning_rate': 4.661572052401747e-05, 'epoch': 1.05}\n",
      "{'loss': 0.0584, 'grad_norm': 0.769810676574707, 'learning_rate': 4.6506550218340614e-05, 'epoch': 1.08}\n",
      "{'loss': 0.0488, 'grad_norm': 1.0686736106872559, 'learning_rate': 4.639737991266376e-05, 'epoch': 1.1}\n",
      "{'loss': 0.0495, 'grad_norm': 1.0275912284851074, 'learning_rate': 4.6288209606986906e-05, 'epoch': 1.13}\n",
      "{'loss': 0.0588, 'grad_norm': 1.4310780763626099, 'learning_rate': 4.617903930131004e-05, 'epoch': 1.15}\n"
     ]
    },
    {
     "data": {
      "application/vnd.jupyter.widget-view+json": {
       "model_id": "487f82d6baf94370b0b2c24505108f2d",
       "version_major": 2,
       "version_minor": 0
      },
      "text/plain": [
       "  0%|          | 0/18 [00:00<?, ?it/s]"
      ]
     },
     "metadata": {},
     "output_type": "display_data"
    },
    {
     "name": "stdout",
     "output_type": "stream",
     "text": [
      "{'eval_loss': 0.08643011748790741, 'eval_runtime': 7.8953, 'eval_samples_per_second': 4.433, 'eval_steps_per_second': 2.28, 'epoch': 1.15}\n",
      "{'loss': 0.0443, 'grad_norm': 1.3443934917449951, 'learning_rate': 4.606986899563319e-05, 'epoch': 1.18}\n",
      "{'loss': 0.0485, 'grad_norm': 0.8950275778770447, 'learning_rate': 4.5960698689956335e-05, 'epoch': 1.21}\n",
      "{'loss': 0.1293, 'grad_norm': 2.228562831878662, 'learning_rate': 4.585152838427948e-05, 'epoch': 1.23}\n",
      "{'loss': 0.0447, 'grad_norm': 1.4496372938156128, 'learning_rate': 4.574235807860262e-05, 'epoch': 1.26}\n",
      "{'loss': 0.1058, 'grad_norm': 1.2425824403762817, 'learning_rate': 4.563318777292577e-05, 'epoch': 1.28}\n",
      "{'loss': 0.0474, 'grad_norm': 0.8673977851867676, 'learning_rate': 4.5524017467248906e-05, 'epoch': 1.31}\n",
      "{'loss': 0.0392, 'grad_norm': 0.49393415451049805, 'learning_rate': 4.5414847161572056e-05, 'epoch': 1.33}\n",
      "{'loss': 0.0501, 'grad_norm': 0.7126423716545105, 'learning_rate': 4.53056768558952e-05, 'epoch': 1.36}\n",
      "{'loss': 0.0418, 'grad_norm': 1.4055511951446533, 'learning_rate': 4.519650655021834e-05, 'epoch': 1.38}\n"
     ]
    },
    {
     "data": {
      "application/vnd.jupyter.widget-view+json": {
       "model_id": "036e7ddea06a4931b6f3954eb28a1eee",
       "version_major": 2,
       "version_minor": 0
      },
      "text/plain": [
       "  0%|          | 0/18 [00:00<?, ?it/s]"
      ]
     },
     "metadata": {},
     "output_type": "display_data"
    },
    {
     "name": "stdout",
     "output_type": "stream",
     "text": [
      "{'eval_loss': 0.07620348781347275, 'eval_runtime': 7.8959, 'eval_samples_per_second': 4.433, 'eval_steps_per_second': 2.28, 'epoch': 1.38}\n",
      "{'loss': 0.0579, 'grad_norm': 1.0345667600631714, 'learning_rate': 4.508733624454149e-05, 'epoch': 1.41}\n",
      "{'loss': 0.1087, 'grad_norm': 1.0802083015441895, 'learning_rate': 4.497816593886463e-05, 'epoch': 1.44}\n",
      "{'loss': 0.0348, 'grad_norm': 0.9605411291122437, 'learning_rate': 4.486899563318778e-05, 'epoch': 1.46}\n",
      "{'loss': 0.037, 'grad_norm': 0.7088066935539246, 'learning_rate': 4.475982532751092e-05, 'epoch': 1.49}\n",
      "{'loss': 0.0715, 'grad_norm': 1.1858376264572144, 'learning_rate': 4.465065502183406e-05, 'epoch': 1.51}\n",
      "{'loss': 0.0848, 'grad_norm': 1.0975275039672852, 'learning_rate': 4.4541484716157205e-05, 'epoch': 1.54}\n",
      "{'loss': 0.0667, 'grad_norm': 0.9950904250144958, 'learning_rate': 4.4432314410480355e-05, 'epoch': 1.56}\n",
      "{'loss': 0.0766, 'grad_norm': 1.0050158500671387, 'learning_rate': 4.432314410480349e-05, 'epoch': 1.59}\n",
      "{'loss': 0.0474, 'grad_norm': 1.8801929950714111, 'learning_rate': 4.421397379912664e-05, 'epoch': 1.62}\n"
     ]
    },
    {
     "data": {
      "application/vnd.jupyter.widget-view+json": {
       "model_id": "e287f031e7bb47fa91f5178a34909901",
       "version_major": 2,
       "version_minor": 0
      },
      "text/plain": [
       "  0%|          | 0/18 [00:00<?, ?it/s]"
      ]
     },
     "metadata": {},
     "output_type": "display_data"
    },
    {
     "name": "stdout",
     "output_type": "stream",
     "text": [
      "{'eval_loss': 0.04615577682852745, 'eval_runtime': 7.9555, 'eval_samples_per_second': 4.399, 'eval_steps_per_second': 2.263, 'epoch': 1.62}\n",
      "{'loss': 0.0355, 'grad_norm': 0.8515562415122986, 'learning_rate': 4.4104803493449784e-05, 'epoch': 1.64}\n",
      "{'loss': 0.0511, 'grad_norm': 1.2334163188934326, 'learning_rate': 4.3995633187772926e-05, 'epoch': 1.67}\n",
      "{'loss': 0.0524, 'grad_norm': 0.5862221717834473, 'learning_rate': 4.3886462882096076e-05, 'epoch': 1.69}\n",
      "{'loss': 0.0466, 'grad_norm': 1.1817725896835327, 'learning_rate': 4.377729257641921e-05, 'epoch': 1.72}\n",
      "{'loss': 0.0409, 'grad_norm': 0.8519597053527832, 'learning_rate': 4.366812227074236e-05, 'epoch': 1.74}\n",
      "{'loss': 0.0479, 'grad_norm': 2.4467146396636963, 'learning_rate': 4.3558951965065505e-05, 'epoch': 1.77}\n",
      "{'loss': 0.0385, 'grad_norm': 0.5085853934288025, 'learning_rate': 4.344978165938865e-05, 'epoch': 1.79}\n",
      "{'loss': 0.0355, 'grad_norm': 0.42219454050064087, 'learning_rate': 4.334061135371179e-05, 'epoch': 1.82}\n",
      "{'loss': 0.0478, 'grad_norm': 2.2024548053741455, 'learning_rate': 4.323144104803494e-05, 'epoch': 1.85}\n"
     ]
    },
    {
     "data": {
      "application/vnd.jupyter.widget-view+json": {
       "model_id": "017b3a97cbd24ce3ae8c95ce33b35e7d",
       "version_major": 2,
       "version_minor": 0
      },
      "text/plain": [
       "  0%|          | 0/18 [00:00<?, ?it/s]"
      ]
     },
     "metadata": {},
     "output_type": "display_data"
    },
    {
     "name": "stdout",
     "output_type": "stream",
     "text": [
      "{'eval_loss': 0.04186534509062767, 'eval_runtime': 7.8894, 'eval_samples_per_second': 4.436, 'eval_steps_per_second': 2.282, 'epoch': 1.85}\n",
      "{'loss': 0.024, 'grad_norm': 0.6424822211265564, 'learning_rate': 4.3122270742358076e-05, 'epoch': 1.87}\n",
      "{'loss': 0.0443, 'grad_norm': 0.9052575826644897, 'learning_rate': 4.3013100436681226e-05, 'epoch': 1.9}\n",
      "{'loss': 0.0306, 'grad_norm': 1.1463992595672607, 'learning_rate': 4.290393013100437e-05, 'epoch': 1.92}\n",
      "{'loss': 0.0256, 'grad_norm': 0.43865588307380676, 'learning_rate': 4.279475982532751e-05, 'epoch': 1.95}\n",
      "{'loss': 0.0492, 'grad_norm': 1.955933690071106, 'learning_rate': 4.268558951965066e-05, 'epoch': 1.97}\n",
      "{'loss': 0.0278, 'grad_norm': 0.7065082788467407, 'learning_rate': 4.2576419213973804e-05, 'epoch': 2.0}\n",
      "{'loss': 0.0217, 'grad_norm': 0.4099178910255432, 'learning_rate': 4.2467248908296947e-05, 'epoch': 2.03}\n",
      "{'loss': 0.0263, 'grad_norm': 0.8193561434745789, 'learning_rate': 4.235807860262009e-05, 'epoch': 2.05}\n",
      "{'loss': 0.0272, 'grad_norm': 0.4699297249317169, 'learning_rate': 4.224890829694323e-05, 'epoch': 2.08}\n"
     ]
    },
    {
     "data": {
      "application/vnd.jupyter.widget-view+json": {
       "model_id": "20d87f9c25cf4bc7b53c4a52c5fceaf1",
       "version_major": 2,
       "version_minor": 0
      },
      "text/plain": [
       "  0%|          | 0/18 [00:00<?, ?it/s]"
      ]
     },
     "metadata": {},
     "output_type": "display_data"
    },
    {
     "name": "stdout",
     "output_type": "stream",
     "text": [
      "{'eval_loss': 0.036303192377090454, 'eval_runtime': 7.9036, 'eval_samples_per_second': 4.428, 'eval_steps_per_second': 2.277, 'epoch': 2.08}\n",
      "{'loss': 0.0165, 'grad_norm': 0.2779594361782074, 'learning_rate': 4.2139737991266375e-05, 'epoch': 2.1}\n",
      "{'loss': 0.0357, 'grad_norm': 0.9708553552627563, 'learning_rate': 4.2030567685589525e-05, 'epoch': 2.13}\n",
      "{'loss': 0.0254, 'grad_norm': 0.8229336738586426, 'learning_rate': 4.192139737991266e-05, 'epoch': 2.15}\n",
      "{'loss': 0.0245, 'grad_norm': 0.4357260763645172, 'learning_rate': 4.181222707423581e-05, 'epoch': 2.18}\n",
      "{'loss': 0.032, 'grad_norm': 0.7137631177902222, 'learning_rate': 4.170305676855895e-05, 'epoch': 2.21}\n",
      "{'loss': 0.0281, 'grad_norm': 1.0909677743911743, 'learning_rate': 4.1593886462882096e-05, 'epoch': 2.23}\n",
      "{'loss': 0.0292, 'grad_norm': 0.5274519324302673, 'learning_rate': 4.1484716157205246e-05, 'epoch': 2.26}\n",
      "{'loss': 0.0144, 'grad_norm': 0.7670338749885559, 'learning_rate': 4.137554585152839e-05, 'epoch': 2.28}\n",
      "{'loss': 0.0146, 'grad_norm': 0.3095814287662506, 'learning_rate': 4.126637554585153e-05, 'epoch': 2.31}\n"
     ]
    },
    {
     "data": {
      "application/vnd.jupyter.widget-view+json": {
       "model_id": "1995ee68e8ea4786a4249d44ac22be75",
       "version_major": 2,
       "version_minor": 0
      },
      "text/plain": [
       "  0%|          | 0/18 [00:00<?, ?it/s]"
      ]
     },
     "metadata": {},
     "output_type": "display_data"
    },
    {
     "name": "stdout",
     "output_type": "stream",
     "text": [
      "{'eval_loss': 0.03505708649754524, 'eval_runtime': 7.8979, 'eval_samples_per_second': 4.432, 'eval_steps_per_second': 2.279, 'epoch': 2.31}\n",
      "{'loss': 0.0273, 'grad_norm': 0.5546376705169678, 'learning_rate': 4.1157205240174674e-05, 'epoch': 2.33}\n",
      "{'loss': 0.016, 'grad_norm': 0.3151495158672333, 'learning_rate': 4.104803493449782e-05, 'epoch': 2.36}\n",
      "{'loss': 0.0265, 'grad_norm': 0.4456498920917511, 'learning_rate': 4.093886462882096e-05, 'epoch': 2.38}\n",
      "{'loss': 0.0313, 'grad_norm': 0.5933693647384644, 'learning_rate': 4.082969432314411e-05, 'epoch': 2.41}\n",
      "{'loss': 0.0212, 'grad_norm': 0.6470460295677185, 'learning_rate': 4.0720524017467246e-05, 'epoch': 2.44}\n",
      "{'loss': 0.0179, 'grad_norm': 1.2574406862258911, 'learning_rate': 4.0611353711790395e-05, 'epoch': 2.46}\n",
      "{'loss': 0.0294, 'grad_norm': 0.7844995260238647, 'learning_rate': 4.050218340611354e-05, 'epoch': 2.49}\n",
      "{'loss': 0.0212, 'grad_norm': 0.4510587751865387, 'learning_rate': 4.039301310043668e-05, 'epoch': 2.51}\n",
      "{'loss': 0.0168, 'grad_norm': 0.3440585136413574, 'learning_rate': 4.028384279475983e-05, 'epoch': 2.54}\n"
     ]
    },
    {
     "data": {
      "application/vnd.jupyter.widget-view+json": {
       "model_id": "e0f77563515748369c6b5fc923ab2e6b",
       "version_major": 2,
       "version_minor": 0
      },
      "text/plain": [
       "  0%|          | 0/18 [00:00<?, ?it/s]"
      ]
     },
     "metadata": {},
     "output_type": "display_data"
    },
    {
     "name": "stdout",
     "output_type": "stream",
     "text": [
      "{'eval_loss': 0.03544427827000618, 'eval_runtime': 7.9008, 'eval_samples_per_second': 4.43, 'eval_steps_per_second': 2.278, 'epoch': 2.54}\n",
      "{'loss': 0.0174, 'grad_norm': 1.13249933719635, 'learning_rate': 4.017467248908297e-05, 'epoch': 2.56}\n",
      "{'loss': 0.0226, 'grad_norm': 0.44400784373283386, 'learning_rate': 4.0065502183406116e-05, 'epoch': 2.59}\n",
      "{'loss': 0.0171, 'grad_norm': 0.30927911400794983, 'learning_rate': 3.995633187772926e-05, 'epoch': 2.62}\n",
      "{'loss': 0.0215, 'grad_norm': 0.5784873366355896, 'learning_rate': 3.98471615720524e-05, 'epoch': 2.64}\n",
      "{'loss': 0.0222, 'grad_norm': 0.4632818102836609, 'learning_rate': 3.9737991266375545e-05, 'epoch': 2.67}\n",
      "{'loss': 0.0218, 'grad_norm': 0.40025365352630615, 'learning_rate': 3.9628820960698694e-05, 'epoch': 2.69}\n",
      "{'loss': 0.0245, 'grad_norm': 0.49398812651634216, 'learning_rate': 3.951965065502183e-05, 'epoch': 2.72}\n",
      "{'loss': 0.0166, 'grad_norm': 0.29589125514030457, 'learning_rate': 3.941048034934498e-05, 'epoch': 2.74}\n",
      "{'loss': 0.0162, 'grad_norm': 0.3026270270347595, 'learning_rate': 3.930131004366812e-05, 'epoch': 2.77}\n"
     ]
    },
    {
     "data": {
      "application/vnd.jupyter.widget-view+json": {
       "model_id": "66ab8c0e5b2b4472bda8ffb8656ce9fd",
       "version_major": 2,
       "version_minor": 0
      },
      "text/plain": [
       "  0%|          | 0/18 [00:00<?, ?it/s]"
      ]
     },
     "metadata": {},
     "output_type": "display_data"
    },
    {
     "name": "stdout",
     "output_type": "stream",
     "text": [
      "{'eval_loss': 0.03238772973418236, 'eval_runtime': 7.9244, 'eval_samples_per_second': 4.417, 'eval_steps_per_second': 2.271, 'epoch': 2.77}\n",
      "{'loss': 0.026, 'grad_norm': 0.5139064788818359, 'learning_rate': 3.9192139737991266e-05, 'epoch': 2.79}\n",
      "{'loss': 0.0262, 'grad_norm': 0.5276899933815002, 'learning_rate': 3.9082969432314415e-05, 'epoch': 2.82}\n",
      "{'loss': 0.0154, 'grad_norm': 0.2957663834095001, 'learning_rate': 3.897379912663756e-05, 'epoch': 2.85}\n",
      "{'loss': 0.0134, 'grad_norm': 0.2810460925102234, 'learning_rate': 3.88646288209607e-05, 'epoch': 2.87}\n",
      "{'loss': 0.014, 'grad_norm': 0.26979154348373413, 'learning_rate': 3.8755458515283844e-05, 'epoch': 2.9}\n",
      "{'loss': 0.0269, 'grad_norm': 0.5068515539169312, 'learning_rate': 3.864628820960699e-05, 'epoch': 2.92}\n",
      "{'loss': 0.02, 'grad_norm': 0.3585669994354248, 'learning_rate': 3.853711790393013e-05, 'epoch': 2.95}\n",
      "{'loss': 0.0216, 'grad_norm': 0.458940714597702, 'learning_rate': 3.842794759825328e-05, 'epoch': 2.97}\n",
      "{'loss': 0.0228, 'grad_norm': 0.35887518525123596, 'learning_rate': 3.831877729257642e-05, 'epoch': 3.0}\n"
     ]
    },
    {
     "data": {
      "application/vnd.jupyter.widget-view+json": {
       "model_id": "9d22a63bd2e74460a7bdbf60225ddad3",
       "version_major": 2,
       "version_minor": 0
      },
      "text/plain": [
       "  0%|          | 0/18 [00:00<?, ?it/s]"
      ]
     },
     "metadata": {},
     "output_type": "display_data"
    },
    {
     "name": "stdout",
     "output_type": "stream",
     "text": [
      "{'eval_loss': 0.030985083431005478, 'eval_runtime': 7.8743, 'eval_samples_per_second': 4.445, 'eval_steps_per_second': 2.286, 'epoch': 3.0}\n",
      "{'loss': 0.0134, 'grad_norm': 0.2947314977645874, 'learning_rate': 3.8209606986899565e-05, 'epoch': 3.03}\n",
      "{'loss': 0.0175, 'grad_norm': 0.3241462707519531, 'learning_rate': 3.810043668122271e-05, 'epoch': 3.05}\n",
      "{'loss': 0.0149, 'grad_norm': 0.2614908814430237, 'learning_rate': 3.799126637554585e-05, 'epoch': 3.08}\n",
      "{'loss': 0.0186, 'grad_norm': 0.32864612340927124, 'learning_rate': 3.7882096069869e-05, 'epoch': 3.1}\n",
      "{'loss': 0.0156, 'grad_norm': 0.2591412365436554, 'learning_rate': 3.777292576419214e-05, 'epoch': 3.13}\n",
      "{'loss': 0.0118, 'grad_norm': 0.21217156946659088, 'learning_rate': 3.7663755458515286e-05, 'epoch': 3.15}\n",
      "{'loss': 0.0165, 'grad_norm': 0.3619520962238312, 'learning_rate': 3.755458515283843e-05, 'epoch': 3.18}\n",
      "{'loss': 0.0168, 'grad_norm': 0.431774377822876, 'learning_rate': 3.744541484716158e-05, 'epoch': 3.21}\n",
      "{'loss': 0.0152, 'grad_norm': 0.28779369592666626, 'learning_rate': 3.7336244541484714e-05, 'epoch': 3.23}\n"
     ]
    },
    {
     "data": {
      "application/vnd.jupyter.widget-view+json": {
       "model_id": "961278a524004b20b14b6077046b72ed",
       "version_major": 2,
       "version_minor": 0
      },
      "text/plain": [
       "  0%|          | 0/18 [00:00<?, ?it/s]"
      ]
     },
     "metadata": {},
     "output_type": "display_data"
    },
    {
     "name": "stdout",
     "output_type": "stream",
     "text": [
      "{'eval_loss': 0.032856278121471405, 'eval_runtime': 7.911, 'eval_samples_per_second': 4.424, 'eval_steps_per_second': 2.275, 'epoch': 3.23}\n",
      "{'loss': 0.0109, 'grad_norm': 0.32217758893966675, 'learning_rate': 3.7227074235807864e-05, 'epoch': 3.26}\n",
      "{'loss': 0.013, 'grad_norm': 0.3219345510005951, 'learning_rate': 3.711790393013101e-05, 'epoch': 3.28}\n",
      "{'loss': 0.0161, 'grad_norm': 0.4460564851760864, 'learning_rate': 3.700873362445415e-05, 'epoch': 3.31}\n",
      "{'loss': 0.0121, 'grad_norm': 0.22396112978458405, 'learning_rate': 3.68995633187773e-05, 'epoch': 3.33}\n",
      "{'loss': 0.0133, 'grad_norm': 0.38664525747299194, 'learning_rate': 3.6790393013100435e-05, 'epoch': 3.36}\n",
      "{'loss': 0.0103, 'grad_norm': 0.2756999135017395, 'learning_rate': 3.6681222707423585e-05, 'epoch': 3.38}\n",
      "{'loss': 0.0141, 'grad_norm': 0.5903540253639221, 'learning_rate': 3.657205240174673e-05, 'epoch': 3.41}\n",
      "{'loss': 0.0154, 'grad_norm': 0.49208948016166687, 'learning_rate': 3.646288209606987e-05, 'epoch': 3.44}\n",
      "{'loss': 0.0127, 'grad_norm': 0.2806849181652069, 'learning_rate': 3.6353711790393013e-05, 'epoch': 3.46}\n"
     ]
    },
    {
     "data": {
      "application/vnd.jupyter.widget-view+json": {
       "model_id": "6e0d2e2bb5c84fbabbdc0525790b04ef",
       "version_major": 2,
       "version_minor": 0
      },
      "text/plain": [
       "  0%|          | 0/18 [00:00<?, ?it/s]"
      ]
     },
     "metadata": {},
     "output_type": "display_data"
    },
    {
     "name": "stdout",
     "output_type": "stream",
     "text": [
      "{'eval_loss': 0.034341584891080856, 'eval_runtime': 7.8999, 'eval_samples_per_second': 4.43, 'eval_steps_per_second': 2.279, 'epoch': 3.46}\n",
      "{'loss': 0.0176, 'grad_norm': 0.4075313210487366, 'learning_rate': 3.624454148471616e-05, 'epoch': 3.49}\n",
      "{'loss': 0.0105, 'grad_norm': 0.3129653334617615, 'learning_rate': 3.61353711790393e-05, 'epoch': 3.51}\n",
      "{'loss': 0.0113, 'grad_norm': 0.26391372084617615, 'learning_rate': 3.602620087336245e-05, 'epoch': 3.54}\n",
      "{'loss': 0.0148, 'grad_norm': 0.3364739716053009, 'learning_rate': 3.591703056768559e-05, 'epoch': 3.56}\n",
      "{'loss': 0.0159, 'grad_norm': 0.6280266642570496, 'learning_rate': 3.5807860262008734e-05, 'epoch': 3.59}\n",
      "{'loss': 0.0127, 'grad_norm': 0.47350049018859863, 'learning_rate': 3.5698689956331884e-05, 'epoch': 3.62}\n",
      "{'loss': 0.0139, 'grad_norm': 0.31201374530792236, 'learning_rate': 3.558951965065502e-05, 'epoch': 3.64}\n",
      "{'loss': 0.0156, 'grad_norm': 0.5038098692893982, 'learning_rate': 3.548034934497817e-05, 'epoch': 3.67}\n",
      "{'loss': 0.0166, 'grad_norm': 0.39706602692604065, 'learning_rate': 3.537117903930131e-05, 'epoch': 3.69}\n"
     ]
    },
    {
     "data": {
      "application/vnd.jupyter.widget-view+json": {
       "model_id": "67725878a282445c819f4b74fd261e8b",
       "version_major": 2,
       "version_minor": 0
      },
      "text/plain": [
       "  0%|          | 0/18 [00:00<?, ?it/s]"
      ]
     },
     "metadata": {},
     "output_type": "display_data"
    },
    {
     "name": "stdout",
     "output_type": "stream",
     "text": [
      "{'eval_loss': 0.03223771974444389, 'eval_runtime': 7.9233, 'eval_samples_per_second': 4.417, 'eval_steps_per_second': 2.272, 'epoch': 3.69}\n",
      "{'loss': 0.0162, 'grad_norm': 0.5170169472694397, 'learning_rate': 3.5262008733624455e-05, 'epoch': 3.72}\n",
      "{'loss': 0.0143, 'grad_norm': 0.36920908093452454, 'learning_rate': 3.51528384279476e-05, 'epoch': 3.74}\n",
      "{'loss': 0.0138, 'grad_norm': 0.3437579572200775, 'learning_rate': 3.504366812227075e-05, 'epoch': 3.77}\n",
      "{'loss': 0.0133, 'grad_norm': 0.31516265869140625, 'learning_rate': 3.4934497816593884e-05, 'epoch': 3.79}\n",
      "{'loss': 0.0177, 'grad_norm': 0.28248047828674316, 'learning_rate': 3.4825327510917034e-05, 'epoch': 3.82}\n",
      "{'loss': 0.0131, 'grad_norm': 0.2958310544490814, 'learning_rate': 3.4716157205240176e-05, 'epoch': 3.85}\n",
      "{'loss': 0.0204, 'grad_norm': 0.46484440565109253, 'learning_rate': 3.460698689956332e-05, 'epoch': 3.87}\n",
      "{'loss': 0.014, 'grad_norm': 0.2920934557914734, 'learning_rate': 3.449781659388647e-05, 'epoch': 3.9}\n",
      "{'loss': 0.0163, 'grad_norm': 0.34125813841819763, 'learning_rate': 3.4388646288209605e-05, 'epoch': 3.92}\n"
     ]
    },
    {
     "data": {
      "application/vnd.jupyter.widget-view+json": {
       "model_id": "145ae18b68ba4e3685f9f71213280978",
       "version_major": 2,
       "version_minor": 0
      },
      "text/plain": [
       "  0%|          | 0/18 [00:00<?, ?it/s]"
      ]
     },
     "metadata": {},
     "output_type": "display_data"
    },
    {
     "name": "stdout",
     "output_type": "stream",
     "text": [
      "{'eval_loss': 0.030303552746772766, 'eval_runtime': 7.8986, 'eval_samples_per_second': 4.431, 'eval_steps_per_second': 2.279, 'epoch': 3.92}\n",
      "{'loss': 0.0102, 'grad_norm': 0.25048670172691345, 'learning_rate': 3.4279475982532755e-05, 'epoch': 3.95}\n",
      "{'loss': 0.0181, 'grad_norm': 0.4468599855899811, 'learning_rate': 3.41703056768559e-05, 'epoch': 3.97}\n",
      "{'loss': 0.0144, 'grad_norm': 0.2998354136943817, 'learning_rate': 3.406113537117904e-05, 'epoch': 4.0}\n",
      "{'loss': 0.009, 'grad_norm': 0.17332181334495544, 'learning_rate': 3.395196506550218e-05, 'epoch': 4.03}\n",
      "{'loss': 0.0122, 'grad_norm': 0.21823249757289886, 'learning_rate': 3.384279475982533e-05, 'epoch': 4.05}\n",
      "{'loss': 0.009, 'grad_norm': 0.17177647352218628, 'learning_rate': 3.373362445414847e-05, 'epoch': 4.08}\n",
      "{'loss': 0.0106, 'grad_norm': 0.21929095685482025, 'learning_rate': 3.362445414847162e-05, 'epoch': 4.1}\n",
      "{'loss': 0.0127, 'grad_norm': 0.23306237161159515, 'learning_rate': 3.351528384279476e-05, 'epoch': 4.13}\n",
      "{'loss': 0.0113, 'grad_norm': 0.21471701562404633, 'learning_rate': 3.3406113537117904e-05, 'epoch': 4.15}\n"
     ]
    },
    {
     "data": {
      "application/vnd.jupyter.widget-view+json": {
       "model_id": "7c907eaceddb454db7ce464f38d15a31",
       "version_major": 2,
       "version_minor": 0
      },
      "text/plain": [
       "  0%|          | 0/18 [00:00<?, ?it/s]"
      ]
     },
     "metadata": {},
     "output_type": "display_data"
    },
    {
     "name": "stdout",
     "output_type": "stream",
     "text": [
      "{'eval_loss': 0.03199121356010437, 'eval_runtime': 7.9491, 'eval_samples_per_second': 4.403, 'eval_steps_per_second': 2.264, 'epoch': 4.15}\n",
      "{'loss': 0.0123, 'grad_norm': 0.3720187544822693, 'learning_rate': 3.3296943231441054e-05, 'epoch': 4.18}\n",
      "{'loss': 0.0121, 'grad_norm': 0.30982768535614014, 'learning_rate': 3.3187772925764197e-05, 'epoch': 4.21}\n",
      "{'loss': 0.0117, 'grad_norm': 0.2977307140827179, 'learning_rate': 3.307860262008734e-05, 'epoch': 4.23}\n",
      "{'loss': 0.011, 'grad_norm': 0.2656327188014984, 'learning_rate': 3.296943231441048e-05, 'epoch': 4.26}\n",
      "{'loss': 0.0107, 'grad_norm': 0.30891868472099304, 'learning_rate': 3.2860262008733625e-05, 'epoch': 4.28}\n",
      "{'loss': 0.0112, 'grad_norm': 0.31548917293548584, 'learning_rate': 3.275109170305677e-05, 'epoch': 4.31}\n",
      "{'loss': 0.0114, 'grad_norm': 0.30491551756858826, 'learning_rate': 3.264192139737992e-05, 'epoch': 4.33}\n",
      "{'loss': 0.0108, 'grad_norm': 0.32373514771461487, 'learning_rate': 3.2532751091703054e-05, 'epoch': 4.36}\n",
      "{'loss': 0.0108, 'grad_norm': 0.29437997937202454, 'learning_rate': 3.24235807860262e-05, 'epoch': 4.38}\n"
     ]
    },
    {
     "data": {
      "application/vnd.jupyter.widget-view+json": {
       "model_id": "77e0bb70a26a4b2b9455c0ff9c1d41e3",
       "version_major": 2,
       "version_minor": 0
      },
      "text/plain": [
       "  0%|          | 0/18 [00:00<?, ?it/s]"
      ]
     },
     "metadata": {},
     "output_type": "display_data"
    },
    {
     "name": "stdout",
     "output_type": "stream",
     "text": [
      "{'eval_loss': 0.034184426069259644, 'eval_runtime': 7.5541, 'eval_samples_per_second': 4.633, 'eval_steps_per_second': 2.383, 'epoch': 4.38}\n",
      "{'loss': 0.0125, 'grad_norm': 0.3775632679462433, 'learning_rate': 3.2314410480349346e-05, 'epoch': 4.41}\n",
      "{'loss': 0.0122, 'grad_norm': 0.28300240635871887, 'learning_rate': 3.220524017467249e-05, 'epoch': 4.44}\n",
      "{'loss': 0.013, 'grad_norm': 0.3692590892314911, 'learning_rate': 3.209606986899564e-05, 'epoch': 4.46}\n",
      "{'loss': 0.0095, 'grad_norm': 0.4389469623565674, 'learning_rate': 3.198689956331878e-05, 'epoch': 4.49}\n",
      "{'loss': 0.007, 'grad_norm': 0.16465401649475098, 'learning_rate': 3.1877729257641924e-05, 'epoch': 4.51}\n",
      "{'loss': 0.0139, 'grad_norm': 0.49453240633010864, 'learning_rate': 3.176855895196507e-05, 'epoch': 4.54}\n",
      "{'loss': 0.0129, 'grad_norm': 0.39849862456321716, 'learning_rate': 3.165938864628821e-05, 'epoch': 4.56}\n",
      "{'loss': 0.0116, 'grad_norm': 0.2906062602996826, 'learning_rate': 3.155021834061135e-05, 'epoch': 4.59}\n",
      "{'loss': 0.0121, 'grad_norm': 0.3332190215587616, 'learning_rate': 3.14410480349345e-05, 'epoch': 4.62}\n"
     ]
    },
    {
     "data": {
      "application/vnd.jupyter.widget-view+json": {
       "model_id": "e6b788b39eda4728ae810edd5fca8ac4",
       "version_major": 2,
       "version_minor": 0
      },
      "text/plain": [
       "  0%|          | 0/18 [00:00<?, ?it/s]"
      ]
     },
     "metadata": {},
     "output_type": "display_data"
    },
    {
     "name": "stdout",
     "output_type": "stream",
     "text": [
      "{'eval_loss': 0.03229345753788948, 'eval_runtime': 7.915, 'eval_samples_per_second': 4.422, 'eval_steps_per_second': 2.274, 'epoch': 4.62}\n",
      "{'loss': 0.0091, 'grad_norm': 0.22070856392383575, 'learning_rate': 3.133187772925764e-05, 'epoch': 4.64}\n",
      "{'loss': 0.0113, 'grad_norm': 0.2543799579143524, 'learning_rate': 3.122270742358079e-05, 'epoch': 4.67}\n",
      "{'loss': 0.0086, 'grad_norm': 0.17414246499538422, 'learning_rate': 3.111353711790393e-05, 'epoch': 4.69}\n",
      "{'loss': 0.0099, 'grad_norm': 0.2259282022714615, 'learning_rate': 3.1004366812227074e-05, 'epoch': 4.72}\n",
      "{'loss': 0.0116, 'grad_norm': 0.3595351278781891, 'learning_rate': 3.089519650655022e-05, 'epoch': 4.74}\n",
      "{'loss': 0.0123, 'grad_norm': 0.40186774730682373, 'learning_rate': 3.0786026200873366e-05, 'epoch': 4.77}\n",
      "{'loss': 0.0057, 'grad_norm': 0.20266488194465637, 'learning_rate': 3.067685589519651e-05, 'epoch': 4.79}\n",
      "{'loss': 0.0071, 'grad_norm': 0.1461309790611267, 'learning_rate': 3.056768558951965e-05, 'epoch': 4.82}\n",
      "{'loss': 0.0096, 'grad_norm': 0.22151795029640198, 'learning_rate': 3.0458515283842798e-05, 'epoch': 4.85}\n"
     ]
    },
    {
     "data": {
      "application/vnd.jupyter.widget-view+json": {
       "model_id": "8727068f731440f79ae4d4c76329880b",
       "version_major": 2,
       "version_minor": 0
      },
      "text/plain": [
       "  0%|          | 0/18 [00:00<?, ?it/s]"
      ]
     },
     "metadata": {},
     "output_type": "display_data"
    },
    {
     "name": "stdout",
     "output_type": "stream",
     "text": [
      "{'eval_loss': 0.03347765654325485, 'eval_runtime': 7.8966, 'eval_samples_per_second': 4.432, 'eval_steps_per_second': 2.279, 'epoch': 4.85}\n",
      "{'loss': 0.0119, 'grad_norm': 0.2568294405937195, 'learning_rate': 3.0349344978165938e-05, 'epoch': 4.87}\n",
      "{'loss': 0.0143, 'grad_norm': 0.34233638644218445, 'learning_rate': 3.0240174672489087e-05, 'epoch': 4.9}\n",
      "{'loss': 0.0128, 'grad_norm': 0.35766664147377014, 'learning_rate': 3.0131004366812227e-05, 'epoch': 4.92}\n",
      "{'loss': 0.0138, 'grad_norm': 0.342600017786026, 'learning_rate': 3.0021834061135373e-05, 'epoch': 4.95}\n",
      "{'loss': 0.0085, 'grad_norm': 0.15678167343139648, 'learning_rate': 2.9912663755458516e-05, 'epoch': 4.97}\n",
      "{'loss': 0.0126, 'grad_norm': 0.38759464025497437, 'learning_rate': 2.9803493449781662e-05, 'epoch': 5.0}\n",
      "{'loss': 0.0095, 'grad_norm': 0.19562573730945587, 'learning_rate': 2.9694323144104808e-05, 'epoch': 5.03}\n",
      "{'loss': 0.0058, 'grad_norm': 0.09274125099182129, 'learning_rate': 2.9585152838427948e-05, 'epoch': 5.05}\n",
      "{'loss': 0.0092, 'grad_norm': 0.18004848062992096, 'learning_rate': 2.9475982532751094e-05, 'epoch': 5.08}\n"
     ]
    },
    {
     "data": {
      "application/vnd.jupyter.widget-view+json": {
       "model_id": "2c2c66749e3045f6b28292e1d26bb1ea",
       "version_major": 2,
       "version_minor": 0
      },
      "text/plain": [
       "  0%|          | 0/18 [00:00<?, ?it/s]"
      ]
     },
     "metadata": {},
     "output_type": "display_data"
    },
    {
     "name": "stdout",
     "output_type": "stream",
     "text": [
      "{'eval_loss': 0.03100530430674553, 'eval_runtime': 7.895, 'eval_samples_per_second': 4.433, 'eval_steps_per_second': 2.28, 'epoch': 5.08}\n",
      "{'loss': 0.0088, 'grad_norm': 0.16175082325935364, 'learning_rate': 2.9366812227074237e-05, 'epoch': 5.1}\n",
      "{'loss': 0.008, 'grad_norm': 0.1449228972196579, 'learning_rate': 2.9257641921397383e-05, 'epoch': 5.13}\n",
      "{'loss': 0.012, 'grad_norm': 0.36827540397644043, 'learning_rate': 2.9148471615720522e-05, 'epoch': 5.15}\n",
      "{'loss': 0.0083, 'grad_norm': 0.18413543701171875, 'learning_rate': 2.9039301310043672e-05, 'epoch': 5.18}\n",
      "{'loss': 0.0056, 'grad_norm': 0.17948581278324127, 'learning_rate': 2.893013100436681e-05, 'epoch': 5.21}\n",
      "{'loss': 0.0089, 'grad_norm': 0.2651447355747223, 'learning_rate': 2.8820960698689958e-05, 'epoch': 5.23}\n",
      "{'loss': 0.0097, 'grad_norm': 0.24259614944458008, 'learning_rate': 2.87117903930131e-05, 'epoch': 5.26}\n",
      "{'loss': 0.0054, 'grad_norm': 0.1445877104997635, 'learning_rate': 2.8602620087336247e-05, 'epoch': 5.28}\n",
      "{'loss': 0.0094, 'grad_norm': 0.23905742168426514, 'learning_rate': 2.8493449781659393e-05, 'epoch': 5.31}\n"
     ]
    },
    {
     "data": {
      "application/vnd.jupyter.widget-view+json": {
       "model_id": "72778f9790e24388b7069f53c03ba440",
       "version_major": 2,
       "version_minor": 0
      },
      "text/plain": [
       "  0%|          | 0/18 [00:00<?, ?it/s]"
      ]
     },
     "metadata": {},
     "output_type": "display_data"
    },
    {
     "name": "stdout",
     "output_type": "stream",
     "text": [
      "{'eval_loss': 0.032985106110572815, 'eval_runtime': 7.8999, 'eval_samples_per_second': 4.43, 'eval_steps_per_second': 2.279, 'epoch': 5.31}\n",
      "{'loss': 0.0086, 'grad_norm': 0.1475847363471985, 'learning_rate': 2.8384279475982532e-05, 'epoch': 5.33}\n",
      "{'loss': 0.0084, 'grad_norm': 0.17576651275157928, 'learning_rate': 2.827510917030568e-05, 'epoch': 5.36}\n",
      "{'loss': 0.0103, 'grad_norm': 0.24154673516750336, 'learning_rate': 2.816593886462882e-05, 'epoch': 5.38}\n",
      "{'loss': 0.0096, 'grad_norm': 0.2678076922893524, 'learning_rate': 2.8056768558951968e-05, 'epoch': 5.41}\n",
      "{'loss': 0.0076, 'grad_norm': 0.24084557592868805, 'learning_rate': 2.794759825327511e-05, 'epoch': 5.44}\n",
      "{'loss': 0.0088, 'grad_norm': 0.19156892597675323, 'learning_rate': 2.7838427947598257e-05, 'epoch': 5.46}\n",
      "{'loss': 0.0102, 'grad_norm': 0.3772421181201935, 'learning_rate': 2.7729257641921396e-05, 'epoch': 5.49}\n",
      "{'loss': 0.0085, 'grad_norm': 0.20241713523864746, 'learning_rate': 2.7620087336244542e-05, 'epoch': 5.51}\n",
      "{'loss': 0.0069, 'grad_norm': 0.1337592601776123, 'learning_rate': 2.7510917030567685e-05, 'epoch': 5.54}\n"
     ]
    },
    {
     "data": {
      "application/vnd.jupyter.widget-view+json": {
       "model_id": "6acb6187691d4447855cd30cae7567eb",
       "version_major": 2,
       "version_minor": 0
      },
      "text/plain": [
       "  0%|          | 0/18 [00:00<?, ?it/s]"
      ]
     },
     "metadata": {},
     "output_type": "display_data"
    },
    {
     "name": "stdout",
     "output_type": "stream",
     "text": [
      "{'eval_loss': 0.033610306680202484, 'eval_runtime': 7.4462, 'eval_samples_per_second': 4.7, 'eval_steps_per_second': 2.417, 'epoch': 5.54}\n",
      "{'loss': 0.0129, 'grad_norm': 0.30391833186149597, 'learning_rate': 2.740174672489083e-05, 'epoch': 5.56}\n",
      "{'loss': 0.0081, 'grad_norm': 0.1715157926082611, 'learning_rate': 2.7292576419213978e-05, 'epoch': 5.59}\n",
      "{'loss': 0.0109, 'grad_norm': 0.27223020792007446, 'learning_rate': 2.7183406113537117e-05, 'epoch': 5.62}\n",
      "{'loss': 0.0078, 'grad_norm': 0.16748057305812836, 'learning_rate': 2.7074235807860267e-05, 'epoch': 5.64}\n",
      "{'loss': 0.0109, 'grad_norm': 0.24053795635700226, 'learning_rate': 2.6965065502183406e-05, 'epoch': 5.67}\n",
      "{'loss': 0.0102, 'grad_norm': 0.24147212505340576, 'learning_rate': 2.6855895196506553e-05, 'epoch': 5.69}\n",
      "{'loss': 0.0067, 'grad_norm': 0.14059285819530487, 'learning_rate': 2.6746724890829695e-05, 'epoch': 5.72}\n",
      "{'loss': 0.0112, 'grad_norm': 0.33115458488464355, 'learning_rate': 2.663755458515284e-05, 'epoch': 5.74}\n",
      "{'loss': 0.0071, 'grad_norm': 0.2592451572418213, 'learning_rate': 2.652838427947598e-05, 'epoch': 5.77}\n"
     ]
    },
    {
     "data": {
      "application/vnd.jupyter.widget-view+json": {
       "model_id": "a5ca9b203f4045359b622b8e11945de7",
       "version_major": 2,
       "version_minor": 0
      },
      "text/plain": [
       "  0%|          | 0/18 [00:00<?, ?it/s]"
      ]
     },
     "metadata": {},
     "output_type": "display_data"
    },
    {
     "name": "stdout",
     "output_type": "stream",
     "text": [
      "{'eval_loss': 0.03263990953564644, 'eval_runtime': 7.5454, 'eval_samples_per_second': 4.639, 'eval_steps_per_second': 2.386, 'epoch': 5.77}\n",
      "{'loss': 0.0103, 'grad_norm': 0.21649013459682465, 'learning_rate': 2.6419213973799127e-05, 'epoch': 5.79}\n",
      "{'loss': 0.0115, 'grad_norm': 0.23390835523605347, 'learning_rate': 2.631004366812227e-05, 'epoch': 5.82}\n",
      "{'loss': 0.0077, 'grad_norm': 0.18687523901462555, 'learning_rate': 2.6200873362445416e-05, 'epoch': 5.85}\n",
      "{'loss': 0.0106, 'grad_norm': 0.28046345710754395, 'learning_rate': 2.6091703056768563e-05, 'epoch': 5.87}\n",
      "{'loss': 0.0076, 'grad_norm': 0.12559281289577484, 'learning_rate': 2.5982532751091705e-05, 'epoch': 5.9}\n",
      "{'loss': 0.011, 'grad_norm': 0.25386857986450195, 'learning_rate': 2.587336244541485e-05, 'epoch': 5.92}\n",
      "{'loss': 0.0095, 'grad_norm': 0.2854227125644684, 'learning_rate': 2.576419213973799e-05, 'epoch': 5.95}\n",
      "{'loss': 0.0094, 'grad_norm': 0.19331006705760956, 'learning_rate': 2.5655021834061137e-05, 'epoch': 5.97}\n",
      "{'loss': 0.0085, 'grad_norm': 0.26969558000564575, 'learning_rate': 2.554585152838428e-05, 'epoch': 6.0}\n"
     ]
    },
    {
     "data": {
      "application/vnd.jupyter.widget-view+json": {
       "model_id": "b91fcd2a982d4422bd6893202e876751",
       "version_major": 2,
       "version_minor": 0
      },
      "text/plain": [
       "  0%|          | 0/18 [00:00<?, ?it/s]"
      ]
     },
     "metadata": {},
     "output_type": "display_data"
    },
    {
     "name": "stdout",
     "output_type": "stream",
     "text": [
      "{'eval_loss': 0.03383675962686539, 'eval_runtime': 7.201, 'eval_samples_per_second': 4.86, 'eval_steps_per_second': 2.5, 'epoch': 6.0}\n",
      "{'loss': 0.007, 'grad_norm': 0.17567354440689087, 'learning_rate': 2.5436681222707426e-05, 'epoch': 6.03}\n",
      "{'loss': 0.0079, 'grad_norm': 0.14028601348400116, 'learning_rate': 2.5327510917030566e-05, 'epoch': 6.05}\n",
      "{'loss': 0.0098, 'grad_norm': 0.23633046448230743, 'learning_rate': 2.5218340611353712e-05, 'epoch': 6.08}\n",
      "{'loss': 0.0086, 'grad_norm': 0.2164764553308487, 'learning_rate': 2.5109170305676855e-05, 'epoch': 6.1}\n",
      "{'loss': 0.0089, 'grad_norm': 0.1600044220685959, 'learning_rate': 2.5e-05, 'epoch': 6.13}\n",
      "{'loss': 0.0062, 'grad_norm': 0.10316499322652817, 'learning_rate': 2.4890829694323144e-05, 'epoch': 6.15}\n",
      "{'loss': 0.0053, 'grad_norm': 0.0926937460899353, 'learning_rate': 2.478165938864629e-05, 'epoch': 6.18}\n",
      "{'loss': 0.0068, 'grad_norm': 0.13910579681396484, 'learning_rate': 2.4672489082969433e-05, 'epoch': 6.21}\n",
      "{'loss': 0.0079, 'grad_norm': 0.16353724896907806, 'learning_rate': 2.4563318777292576e-05, 'epoch': 6.23}\n"
     ]
    },
    {
     "data": {
      "application/vnd.jupyter.widget-view+json": {
       "model_id": "63b66b583bdc4d2b820297504f77e5f6",
       "version_major": 2,
       "version_minor": 0
      },
      "text/plain": [
       "  0%|          | 0/18 [00:00<?, ?it/s]"
      ]
     },
     "metadata": {},
     "output_type": "display_data"
    },
    {
     "name": "stdout",
     "output_type": "stream",
     "text": [
      "{'eval_loss': 0.034542303532361984, 'eval_runtime': 7.8744, 'eval_samples_per_second': 4.445, 'eval_steps_per_second': 2.286, 'epoch': 6.23}\n",
      "{'loss': 0.0076, 'grad_norm': 0.11705626547336578, 'learning_rate': 2.445414847161572e-05, 'epoch': 6.26}\n",
      "{'loss': 0.0058, 'grad_norm': 0.09272841364145279, 'learning_rate': 2.434497816593887e-05, 'epoch': 6.28}\n",
      "{'loss': 0.0085, 'grad_norm': 0.16113562881946564, 'learning_rate': 2.423580786026201e-05, 'epoch': 6.31}\n",
      "{'loss': 0.007, 'grad_norm': 0.13667219877243042, 'learning_rate': 2.4126637554585154e-05, 'epoch': 6.33}\n",
      "{'loss': 0.0081, 'grad_norm': 0.1850793957710266, 'learning_rate': 2.4017467248908297e-05, 'epoch': 6.36}\n",
      "{'loss': 0.0071, 'grad_norm': 0.1134910061955452, 'learning_rate': 2.3908296943231443e-05, 'epoch': 6.38}\n",
      "{'loss': 0.0111, 'grad_norm': 0.3120967149734497, 'learning_rate': 2.3799126637554586e-05, 'epoch': 6.41}\n",
      "{'loss': 0.0083, 'grad_norm': 0.18319323658943176, 'learning_rate': 2.368995633187773e-05, 'epoch': 6.44}\n",
      "{'loss': 0.0083, 'grad_norm': 0.1427481472492218, 'learning_rate': 2.3580786026200875e-05, 'epoch': 6.46}\n"
     ]
    },
    {
     "data": {
      "application/vnd.jupyter.widget-view+json": {
       "model_id": "49e3728fd4b94effbf7aa23c1701ea90",
       "version_major": 2,
       "version_minor": 0
      },
      "text/plain": [
       "  0%|          | 0/18 [00:00<?, ?it/s]"
      ]
     },
     "metadata": {},
     "output_type": "display_data"
    },
    {
     "name": "stdout",
     "output_type": "stream",
     "text": [
      "{'eval_loss': 0.03487570956349373, 'eval_runtime': 7.915, 'eval_samples_per_second': 4.422, 'eval_steps_per_second': 2.274, 'epoch': 6.46}\n",
      "{'loss': 0.0113, 'grad_norm': 0.27544963359832764, 'learning_rate': 2.3471615720524018e-05, 'epoch': 6.49}\n",
      "{'loss': 0.0063, 'grad_norm': 0.19791531562805176, 'learning_rate': 2.336244541484716e-05, 'epoch': 6.51}\n",
      "{'loss': 0.0079, 'grad_norm': 0.13742460310459137, 'learning_rate': 2.3253275109170307e-05, 'epoch': 6.54}\n",
      "{'loss': 0.0067, 'grad_norm': 0.14196036756038666, 'learning_rate': 2.3144104803493453e-05, 'epoch': 6.56}\n",
      "{'loss': 0.0099, 'grad_norm': 0.22432103753089905, 'learning_rate': 2.3034934497816596e-05, 'epoch': 6.59}\n",
      "{'loss': 0.0075, 'grad_norm': 0.2545209527015686, 'learning_rate': 2.292576419213974e-05, 'epoch': 6.62}\n",
      "{'loss': 0.0106, 'grad_norm': 0.18902966380119324, 'learning_rate': 2.2816593886462885e-05, 'epoch': 6.64}\n",
      "{'loss': 0.0087, 'grad_norm': 0.23001137375831604, 'learning_rate': 2.2707423580786028e-05, 'epoch': 6.67}\n",
      "{'loss': 0.0102, 'grad_norm': 0.24857188761234283, 'learning_rate': 2.259825327510917e-05, 'epoch': 6.69}\n"
     ]
    },
    {
     "data": {
      "application/vnd.jupyter.widget-view+json": {
       "model_id": "739ca3de048049e1b43ce9cf2d7f2b83",
       "version_major": 2,
       "version_minor": 0
      },
      "text/plain": [
       "  0%|          | 0/18 [00:00<?, ?it/s]"
      ]
     },
     "metadata": {},
     "output_type": "display_data"
    },
    {
     "name": "stdout",
     "output_type": "stream",
     "text": [
      "{'eval_loss': 0.034564532339572906, 'eval_runtime': 7.9342, 'eval_samples_per_second': 4.411, 'eval_steps_per_second': 2.269, 'epoch': 6.69}\n",
      "{'loss': 0.0073, 'grad_norm': 0.107476606965065, 'learning_rate': 2.2489082969432314e-05, 'epoch': 6.72}\n",
      "{'loss': 0.0087, 'grad_norm': 0.17403218150138855, 'learning_rate': 2.237991266375546e-05, 'epoch': 6.74}\n",
      "{'loss': 0.007, 'grad_norm': 0.42823368310928345, 'learning_rate': 2.2270742358078603e-05, 'epoch': 6.77}\n",
      "{'loss': 0.0083, 'grad_norm': 0.14192813634872437, 'learning_rate': 2.2161572052401746e-05, 'epoch': 6.79}\n",
      "{'loss': 0.008, 'grad_norm': 0.24179627001285553, 'learning_rate': 2.2052401746724892e-05, 'epoch': 6.82}\n",
      "{'loss': 0.0086, 'grad_norm': 0.3609592020511627, 'learning_rate': 2.1943231441048038e-05, 'epoch': 6.85}\n",
      "{'loss': 0.0101, 'grad_norm': 0.17820189893245697, 'learning_rate': 2.183406113537118e-05, 'epoch': 6.87}\n",
      "{'loss': 0.0096, 'grad_norm': 0.24784187972545624, 'learning_rate': 2.1724890829694324e-05, 'epoch': 6.9}\n",
      "{'loss': 0.0102, 'grad_norm': 0.20226292312145233, 'learning_rate': 2.161572052401747e-05, 'epoch': 6.92}\n"
     ]
    },
    {
     "data": {
      "application/vnd.jupyter.widget-view+json": {
       "model_id": "45ace6e955434f7682662b097277e496",
       "version_major": 2,
       "version_minor": 0
      },
      "text/plain": [
       "  0%|          | 0/18 [00:00<?, ?it/s]"
      ]
     },
     "metadata": {},
     "output_type": "display_data"
    },
    {
     "name": "stdout",
     "output_type": "stream",
     "text": [
      "{'eval_loss': 0.034565676003694534, 'eval_runtime': 7.4002, 'eval_samples_per_second': 4.73, 'eval_steps_per_second': 2.432, 'epoch': 6.92}\n",
      "{'loss': 0.007, 'grad_norm': 0.12301158159971237, 'learning_rate': 2.1506550218340613e-05, 'epoch': 6.95}\n",
      "{'loss': 0.0078, 'grad_norm': 0.21056053042411804, 'learning_rate': 2.1397379912663756e-05, 'epoch': 6.97}\n",
      "{'loss': 0.0084, 'grad_norm': 0.2742899954319, 'learning_rate': 2.1288209606986902e-05, 'epoch': 7.0}\n",
      "{'loss': 0.0078, 'grad_norm': 0.11250755935907364, 'learning_rate': 2.1179039301310045e-05, 'epoch': 7.03}\n",
      "{'loss': 0.0079, 'grad_norm': 0.33760568499565125, 'learning_rate': 2.1069868995633188e-05, 'epoch': 7.05}\n",
      "{'loss': 0.0089, 'grad_norm': 0.16500335931777954, 'learning_rate': 2.096069868995633e-05, 'epoch': 7.08}\n",
      "{'loss': 0.0068, 'grad_norm': 0.19441883265972137, 'learning_rate': 2.0851528384279477e-05, 'epoch': 7.1}\n",
      "{'loss': 0.0077, 'grad_norm': 0.4135095179080963, 'learning_rate': 2.0742358078602623e-05, 'epoch': 7.13}\n",
      "{'loss': 0.011, 'grad_norm': 0.5726442337036133, 'learning_rate': 2.0633187772925766e-05, 'epoch': 7.15}\n"
     ]
    },
    {
     "data": {
      "application/vnd.jupyter.widget-view+json": {
       "model_id": "9987de8dc3b845b09301f936503a3345",
       "version_major": 2,
       "version_minor": 0
      },
      "text/plain": [
       "  0%|          | 0/18 [00:00<?, ?it/s]"
      ]
     },
     "metadata": {},
     "output_type": "display_data"
    },
    {
     "name": "stdout",
     "output_type": "stream",
     "text": [
      "{'eval_loss': 0.03326815739274025, 'eval_runtime': 7.9072, 'eval_samples_per_second': 4.426, 'eval_steps_per_second': 2.276, 'epoch': 7.15}\n",
      "{'loss': 0.0048, 'grad_norm': 0.08240146934986115, 'learning_rate': 2.052401746724891e-05, 'epoch': 7.18}\n",
      "{'loss': 0.0083, 'grad_norm': 0.12371155619621277, 'learning_rate': 2.0414847161572055e-05, 'epoch': 7.21}\n",
      "{'loss': 0.0075, 'grad_norm': 0.1287813037633896, 'learning_rate': 2.0305676855895198e-05, 'epoch': 7.23}\n",
      "{'loss': 0.0075, 'grad_norm': 0.13120019435882568, 'learning_rate': 2.019650655021834e-05, 'epoch': 7.26}\n",
      "{'loss': 0.0075, 'grad_norm': 0.1762722134590149, 'learning_rate': 2.0087336244541487e-05, 'epoch': 7.28}\n",
      "{'loss': 0.0092, 'grad_norm': 0.1964787095785141, 'learning_rate': 1.997816593886463e-05, 'epoch': 7.31}\n",
      "{'loss': 0.0082, 'grad_norm': 0.20720554888248444, 'learning_rate': 1.9868995633187772e-05, 'epoch': 7.33}\n",
      "{'loss': 0.0078, 'grad_norm': 0.11611444503068924, 'learning_rate': 1.9759825327510915e-05, 'epoch': 7.36}\n",
      "{'loss': 0.0088, 'grad_norm': 0.17881980538368225, 'learning_rate': 1.965065502183406e-05, 'epoch': 7.38}\n"
     ]
    },
    {
     "data": {
      "application/vnd.jupyter.widget-view+json": {
       "model_id": "6944334dabfb424798215e33abd4aa6f",
       "version_major": 2,
       "version_minor": 0
      },
      "text/plain": [
       "  0%|          | 0/18 [00:00<?, ?it/s]"
      ]
     },
     "metadata": {},
     "output_type": "display_data"
    },
    {
     "name": "stdout",
     "output_type": "stream",
     "text": [
      "{'eval_loss': 0.03280623257160187, 'eval_runtime': 7.9133, 'eval_samples_per_second': 4.423, 'eval_steps_per_second': 2.275, 'epoch': 7.38}\n",
      "{'loss': 0.009, 'grad_norm': 0.13864849507808685, 'learning_rate': 1.9541484716157208e-05, 'epoch': 7.41}\n",
      "{'loss': 0.0087, 'grad_norm': 0.1519119143486023, 'learning_rate': 1.943231441048035e-05, 'epoch': 7.44}\n",
      "{'loss': 0.0085, 'grad_norm': 0.13361376523971558, 'learning_rate': 1.9323144104803493e-05, 'epoch': 7.46}\n",
      "{'loss': 0.0091, 'grad_norm': 0.16712060570716858, 'learning_rate': 1.921397379912664e-05, 'epoch': 7.49}\n",
      "{'loss': 0.0094, 'grad_norm': 0.15379761159420013, 'learning_rate': 1.9104803493449782e-05, 'epoch': 7.51}\n",
      "{'loss': 0.0063, 'grad_norm': 0.2889387607574463, 'learning_rate': 1.8995633187772925e-05, 'epoch': 7.54}\n",
      "{'loss': 0.0082, 'grad_norm': 0.1435525268316269, 'learning_rate': 1.888646288209607e-05, 'epoch': 7.56}\n",
      "{'loss': 0.0063, 'grad_norm': 0.09385672956705093, 'learning_rate': 1.8777292576419214e-05, 'epoch': 7.59}\n",
      "{'loss': 0.0074, 'grad_norm': 0.12930981814861298, 'learning_rate': 1.8668122270742357e-05, 'epoch': 7.62}\n"
     ]
    },
    {
     "data": {
      "application/vnd.jupyter.widget-view+json": {
       "model_id": "e1f8c6f3952447ebb26d1b99cdc6e841",
       "version_major": 2,
       "version_minor": 0
      },
      "text/plain": [
       "  0%|          | 0/18 [00:00<?, ?it/s]"
      ]
     },
     "metadata": {},
     "output_type": "display_data"
    },
    {
     "name": "stdout",
     "output_type": "stream",
     "text": [
      "{'eval_loss': 0.03474593535065651, 'eval_runtime': 7.891, 'eval_samples_per_second': 4.435, 'eval_steps_per_second': 2.281, 'epoch': 7.62}\n",
      "{'loss': 0.0061, 'grad_norm': 0.10698629170656204, 'learning_rate': 1.8558951965065503e-05, 'epoch': 7.64}\n",
      "{'loss': 0.0083, 'grad_norm': 0.2501276433467865, 'learning_rate': 1.844978165938865e-05, 'epoch': 7.67}\n",
      "{'loss': 0.0056, 'grad_norm': 0.10186395049095154, 'learning_rate': 1.8340611353711792e-05, 'epoch': 7.69}\n",
      "{'loss': 0.0063, 'grad_norm': 0.11923589557409286, 'learning_rate': 1.8231441048034935e-05, 'epoch': 7.72}\n",
      "{'loss': 0.0081, 'grad_norm': 0.16757406294345856, 'learning_rate': 1.812227074235808e-05, 'epoch': 7.74}\n",
      "{'loss': 0.0075, 'grad_norm': 0.18133486807346344, 'learning_rate': 1.8013100436681224e-05, 'epoch': 7.77}\n",
      "{'loss': 0.0068, 'grad_norm': 0.15441447496414185, 'learning_rate': 1.7903930131004367e-05, 'epoch': 7.79}\n",
      "{'loss': 0.0071, 'grad_norm': 0.12083849310874939, 'learning_rate': 1.779475982532751e-05, 'epoch': 7.82}\n",
      "{'loss': 0.0096, 'grad_norm': 0.16319836676120758, 'learning_rate': 1.7685589519650656e-05, 'epoch': 7.85}\n"
     ]
    },
    {
     "data": {
      "application/vnd.jupyter.widget-view+json": {
       "model_id": "ff876cab697545458a4af63c4b887665",
       "version_major": 2,
       "version_minor": 0
      },
      "text/plain": [
       "  0%|          | 0/18 [00:00<?, ?it/s]"
      ]
     },
     "metadata": {},
     "output_type": "display_data"
    },
    {
     "name": "stdout",
     "output_type": "stream",
     "text": [
      "{'eval_loss': 0.03583119437098503, 'eval_runtime': 7.9108, 'eval_samples_per_second': 4.424, 'eval_steps_per_second': 2.275, 'epoch': 7.85}\n",
      "{'loss': 0.0071, 'grad_norm': 0.13606923818588257, 'learning_rate': 1.75764192139738e-05, 'epoch': 7.87}\n",
      "{'loss': 0.0099, 'grad_norm': 0.20613421499729156, 'learning_rate': 1.7467248908296942e-05, 'epoch': 7.9}\n",
      "{'loss': 0.0071, 'grad_norm': 0.10851431638002396, 'learning_rate': 1.7358078602620088e-05, 'epoch': 7.92}\n",
      "{'loss': 0.0081, 'grad_norm': 0.1565237045288086, 'learning_rate': 1.7248908296943234e-05, 'epoch': 7.95}\n",
      "{'loss': 0.0081, 'grad_norm': 0.15952984988689423, 'learning_rate': 1.7139737991266377e-05, 'epoch': 7.97}\n",
      "{'loss': 0.0077, 'grad_norm': 0.13883048295974731, 'learning_rate': 1.703056768558952e-05, 'epoch': 8.0}\n",
      "{'loss': 0.0063, 'grad_norm': 0.10508228093385696, 'learning_rate': 1.6921397379912666e-05, 'epoch': 8.03}\n",
      "{'loss': 0.0081, 'grad_norm': 0.3045264780521393, 'learning_rate': 1.681222707423581e-05, 'epoch': 8.05}\n",
      "{'loss': 0.007, 'grad_norm': 0.300065815448761, 'learning_rate': 1.6703056768558952e-05, 'epoch': 8.08}\n"
     ]
    },
    {
     "data": {
      "application/vnd.jupyter.widget-view+json": {
       "model_id": "726d068ce6664a0e82c2527929962266",
       "version_major": 2,
       "version_minor": 0
      },
      "text/plain": [
       "  0%|          | 0/18 [00:00<?, ?it/s]"
      ]
     },
     "metadata": {},
     "output_type": "display_data"
    },
    {
     "name": "stdout",
     "output_type": "stream",
     "text": [
      "{'eval_loss': 0.035603899508714676, 'eval_runtime': 7.9274, 'eval_samples_per_second': 4.415, 'eval_steps_per_second': 2.271, 'epoch': 8.08}\n",
      "{'loss': 0.0059, 'grad_norm': 0.09369973838329315, 'learning_rate': 1.6593886462882098e-05, 'epoch': 8.1}\n",
      "{'loss': 0.0064, 'grad_norm': 0.09787319600582123, 'learning_rate': 1.648471615720524e-05, 'epoch': 8.13}\n",
      "{'loss': 0.0079, 'grad_norm': 0.15644440054893494, 'learning_rate': 1.6375545851528384e-05, 'epoch': 8.15}\n",
      "{'loss': 0.0073, 'grad_norm': 0.11548395454883575, 'learning_rate': 1.6266375545851527e-05, 'epoch': 8.18}\n",
      "{'loss': 0.007, 'grad_norm': 0.13008739054203033, 'learning_rate': 1.6157205240174673e-05, 'epoch': 8.21}\n",
      "{'loss': 0.0071, 'grad_norm': 0.118771992623806, 'learning_rate': 1.604803493449782e-05, 'epoch': 8.23}\n",
      "{'loss': 0.0056, 'grad_norm': 0.10082893073558807, 'learning_rate': 1.5938864628820962e-05, 'epoch': 8.26}\n",
      "{'loss': 0.0064, 'grad_norm': 0.09577187895774841, 'learning_rate': 1.5829694323144105e-05, 'epoch': 8.28}\n",
      "{'loss': 0.0074, 'grad_norm': 0.14076031744480133, 'learning_rate': 1.572052401746725e-05, 'epoch': 8.31}\n"
     ]
    },
    {
     "data": {
      "application/vnd.jupyter.widget-view+json": {
       "model_id": "8819dbc5923143209fb7e90027110f57",
       "version_major": 2,
       "version_minor": 0
      },
      "text/plain": [
       "  0%|          | 0/18 [00:00<?, ?it/s]"
      ]
     },
     "metadata": {},
     "output_type": "display_data"
    },
    {
     "name": "stdout",
     "output_type": "stream",
     "text": [
      "{'eval_loss': 0.03594942390918732, 'eval_runtime': 7.8963, 'eval_samples_per_second': 4.432, 'eval_steps_per_second': 2.28, 'epoch': 8.31}\n",
      "{'loss': 0.0078, 'grad_norm': 0.11964995414018631, 'learning_rate': 1.5611353711790394e-05, 'epoch': 8.33}\n",
      "{'loss': 0.0081, 'grad_norm': 0.14401784539222717, 'learning_rate': 1.5502183406113537e-05, 'epoch': 8.36}\n",
      "{'loss': 0.0076, 'grad_norm': 0.14649979770183563, 'learning_rate': 1.5393013100436683e-05, 'epoch': 8.38}\n",
      "{'loss': 0.0092, 'grad_norm': 0.23400264978408813, 'learning_rate': 1.5283842794759826e-05, 'epoch': 8.41}\n",
      "{'loss': 0.0063, 'grad_norm': 0.10342741757631302, 'learning_rate': 1.5174672489082969e-05, 'epoch': 8.44}\n",
      "{'loss': 0.0065, 'grad_norm': 0.09898030012845993, 'learning_rate': 1.5065502183406113e-05, 'epoch': 8.46}\n",
      "{'loss': 0.0075, 'grad_norm': 0.117744080722332, 'learning_rate': 1.4956331877729258e-05, 'epoch': 8.49}\n",
      "{'loss': 0.0063, 'grad_norm': 0.2094316929578781, 'learning_rate': 1.4847161572052404e-05, 'epoch': 8.51}\n",
      "{'loss': 0.0069, 'grad_norm': 0.2800324559211731, 'learning_rate': 1.4737991266375547e-05, 'epoch': 8.54}\n"
     ]
    },
    {
     "data": {
      "application/vnd.jupyter.widget-view+json": {
       "model_id": "9dde136362ed490fbde0387a1f723ed6",
       "version_major": 2,
       "version_minor": 0
      },
      "text/plain": [
       "  0%|          | 0/18 [00:00<?, ?it/s]"
      ]
     },
     "metadata": {},
     "output_type": "display_data"
    },
    {
     "name": "stdout",
     "output_type": "stream",
     "text": [
      "{'eval_loss': 0.03570159897208214, 'eval_runtime': 7.9223, 'eval_samples_per_second': 4.418, 'eval_steps_per_second': 2.272, 'epoch': 8.54}\n",
      "{'loss': 0.0076, 'grad_norm': 0.1022367775440216, 'learning_rate': 1.4628820960698691e-05, 'epoch': 8.56}\n",
      "{'loss': 0.0073, 'grad_norm': 0.34296804666519165, 'learning_rate': 1.4519650655021836e-05, 'epoch': 8.59}\n",
      "{'loss': 0.0076, 'grad_norm': 0.118794746696949, 'learning_rate': 1.4410480349344979e-05, 'epoch': 8.62}\n",
      "{'loss': 0.0077, 'grad_norm': 0.1252889484167099, 'learning_rate': 1.4301310043668123e-05, 'epoch': 8.64}\n",
      "{'loss': 0.0091, 'grad_norm': 0.1406577080488205, 'learning_rate': 1.4192139737991266e-05, 'epoch': 8.67}\n",
      "{'loss': 0.0067, 'grad_norm': 0.1150074303150177, 'learning_rate': 1.408296943231441e-05, 'epoch': 8.69}\n",
      "{'loss': 0.0073, 'grad_norm': 0.11607644706964493, 'learning_rate': 1.3973799126637555e-05, 'epoch': 8.72}\n",
      "{'loss': 0.0068, 'grad_norm': 0.2505391836166382, 'learning_rate': 1.3864628820960698e-05, 'epoch': 8.74}\n",
      "{'loss': 0.0084, 'grad_norm': 0.2317723035812378, 'learning_rate': 1.3755458515283843e-05, 'epoch': 8.77}\n"
     ]
    },
    {
     "data": {
      "application/vnd.jupyter.widget-view+json": {
       "model_id": "c63f11d8623340c08efdc8ed2d61f9be",
       "version_major": 2,
       "version_minor": 0
      },
      "text/plain": [
       "  0%|          | 0/18 [00:00<?, ?it/s]"
      ]
     },
     "metadata": {},
     "output_type": "display_data"
    },
    {
     "name": "stdout",
     "output_type": "stream",
     "text": [
      "{'eval_loss': 0.03577264025807381, 'eval_runtime': 7.9373, 'eval_samples_per_second': 4.41, 'eval_steps_per_second': 2.268, 'epoch': 8.77}\n",
      "{'loss': 0.0074, 'grad_norm': 0.11006732285022736, 'learning_rate': 1.3646288209606989e-05, 'epoch': 8.79}\n",
      "{'loss': 0.0076, 'grad_norm': 0.1210746169090271, 'learning_rate': 1.3537117903930133e-05, 'epoch': 8.82}\n",
      "{'loss': 0.0073, 'grad_norm': 0.12432039529085159, 'learning_rate': 1.3427947598253276e-05, 'epoch': 8.85}\n",
      "{'loss': 0.0064, 'grad_norm': 0.10222858190536499, 'learning_rate': 1.331877729257642e-05, 'epoch': 8.87}\n",
      "{'loss': 0.0093, 'grad_norm': 0.17491908371448517, 'learning_rate': 1.3209606986899564e-05, 'epoch': 8.9}\n",
      "{'loss': 0.0097, 'grad_norm': 0.3800162076950073, 'learning_rate': 1.3100436681222708e-05, 'epoch': 8.92}\n",
      "{'loss': 0.0097, 'grad_norm': 0.25096842646598816, 'learning_rate': 1.2991266375545853e-05, 'epoch': 8.95}\n",
      "{'loss': 0.0057, 'grad_norm': 0.12181200087070465, 'learning_rate': 1.2882096069868996e-05, 'epoch': 8.97}\n",
      "{'loss': 0.008, 'grad_norm': 0.12504349648952484, 'learning_rate': 1.277292576419214e-05, 'epoch': 9.0}\n"
     ]
    },
    {
     "data": {
      "application/vnd.jupyter.widget-view+json": {
       "model_id": "7dcb7ff3a6794443b17c62a85b1f764b",
       "version_major": 2,
       "version_minor": 0
      },
      "text/plain": [
       "  0%|          | 0/18 [00:00<?, ?it/s]"
      ]
     },
     "metadata": {},
     "output_type": "display_data"
    },
    {
     "name": "stdout",
     "output_type": "stream",
     "text": [
      "{'eval_loss': 0.035688918083906174, 'eval_runtime': 7.9217, 'eval_samples_per_second': 4.418, 'eval_steps_per_second': 2.272, 'epoch': 9.0}\n",
      "{'loss': 0.0073, 'grad_norm': 0.433012455701828, 'learning_rate': 1.2663755458515283e-05, 'epoch': 9.03}\n",
      "{'loss': 0.007, 'grad_norm': 0.10097139328718185, 'learning_rate': 1.2554585152838427e-05, 'epoch': 9.05}\n",
      "{'loss': 0.0065, 'grad_norm': 0.11343760043382645, 'learning_rate': 1.2445414847161572e-05, 'epoch': 9.08}\n",
      "{'loss': 0.0067, 'grad_norm': 0.1057506576180458, 'learning_rate': 1.2336244541484717e-05, 'epoch': 9.1}\n",
      "{'loss': 0.0071, 'grad_norm': 0.10580472648143768, 'learning_rate': 1.222707423580786e-05, 'epoch': 9.13}\n",
      "{'loss': 0.0071, 'grad_norm': 0.10713416337966919, 'learning_rate': 1.2117903930131006e-05, 'epoch': 9.15}\n",
      "{'loss': 0.0064, 'grad_norm': 0.11033012717962265, 'learning_rate': 1.2008733624454148e-05, 'epoch': 9.18}\n",
      "{'loss': 0.0052, 'grad_norm': 0.08125841617584229, 'learning_rate': 1.1899563318777293e-05, 'epoch': 9.21}\n",
      "{'loss': 0.0069, 'grad_norm': 0.21507149934768677, 'learning_rate': 1.1790393013100438e-05, 'epoch': 9.23}\n"
     ]
    },
    {
     "data": {
      "application/vnd.jupyter.widget-view+json": {
       "model_id": "64a2bb77f0f646e0ab7226571bf4510f",
       "version_major": 2,
       "version_minor": 0
      },
      "text/plain": [
       "  0%|          | 0/18 [00:00<?, ?it/s]"
      ]
     },
     "metadata": {},
     "output_type": "display_data"
    },
    {
     "name": "stdout",
     "output_type": "stream",
     "text": [
      "{'eval_loss': 0.03543148562312126, 'eval_runtime': 7.905, 'eval_samples_per_second': 4.428, 'eval_steps_per_second': 2.277, 'epoch': 9.23}\n",
      "{'loss': 0.0073, 'grad_norm': 0.18370890617370605, 'learning_rate': 1.168122270742358e-05, 'epoch': 9.26}\n",
      "{'loss': 0.0071, 'grad_norm': 0.11983617395162582, 'learning_rate': 1.1572052401746727e-05, 'epoch': 9.28}\n",
      "{'loss': 0.007, 'grad_norm': 0.11301831156015396, 'learning_rate': 1.146288209606987e-05, 'epoch': 9.31}\n",
      "{'loss': 0.0072, 'grad_norm': 0.26023998856544495, 'learning_rate': 1.1353711790393014e-05, 'epoch': 9.33}\n",
      "{'loss': 0.0064, 'grad_norm': 0.10470298677682877, 'learning_rate': 1.1244541484716157e-05, 'epoch': 9.36}\n",
      "{'loss': 0.0077, 'grad_norm': 0.12767545878887177, 'learning_rate': 1.1135371179039301e-05, 'epoch': 9.38}\n",
      "{'loss': 0.0076, 'grad_norm': 0.11467535048723221, 'learning_rate': 1.1026200873362446e-05, 'epoch': 9.41}\n",
      "{'loss': 0.0086, 'grad_norm': 0.13567350804805756, 'learning_rate': 1.091703056768559e-05, 'epoch': 9.44}\n",
      "{'loss': 0.0064, 'grad_norm': 0.09098587185144424, 'learning_rate': 1.0807860262008735e-05, 'epoch': 9.46}\n"
     ]
    },
    {
     "data": {
      "application/vnd.jupyter.widget-view+json": {
       "model_id": "af9759d4f60b44a28ab46c7c87ee609a",
       "version_major": 2,
       "version_minor": 0
      },
      "text/plain": [
       "  0%|          | 0/18 [00:00<?, ?it/s]"
      ]
     },
     "metadata": {},
     "output_type": "display_data"
    },
    {
     "name": "stdout",
     "output_type": "stream",
     "text": [
      "{'eval_loss': 0.035150352865457535, 'eval_runtime': 7.907, 'eval_samples_per_second': 4.426, 'eval_steps_per_second': 2.276, 'epoch': 9.46}\n",
      "{'loss': 0.0078, 'grad_norm': 0.12680645287036896, 'learning_rate': 1.0698689956331878e-05, 'epoch': 9.49}\n",
      "{'loss': 0.0079, 'grad_norm': 0.2368060052394867, 'learning_rate': 1.0589519650655022e-05, 'epoch': 9.51}\n",
      "{'loss': 0.007, 'grad_norm': 0.12520495057106018, 'learning_rate': 1.0480349344978165e-05, 'epoch': 9.54}\n",
      "{'loss': 0.0068, 'grad_norm': 0.10864739865064621, 'learning_rate': 1.0371179039301311e-05, 'epoch': 9.56}\n",
      "{'loss': 0.0081, 'grad_norm': 0.13155104219913483, 'learning_rate': 1.0262008733624454e-05, 'epoch': 9.59}\n",
      "{'loss': 0.0064, 'grad_norm': 0.10781230032444, 'learning_rate': 1.0152838427947599e-05, 'epoch': 9.62}\n",
      "{'loss': 0.008, 'grad_norm': 0.1286611109972, 'learning_rate': 1.0043668122270743e-05, 'epoch': 9.64}\n",
      "{'loss': 0.0086, 'grad_norm': 0.1267945021390915, 'learning_rate': 9.934497816593886e-06, 'epoch': 9.67}\n",
      "{'loss': 0.0066, 'grad_norm': 0.11359260976314545, 'learning_rate': 9.82532751091703e-06, 'epoch': 9.69}\n"
     ]
    },
    {
     "data": {
      "application/vnd.jupyter.widget-view+json": {
       "model_id": "bea29104aaa84ff4b137ba9c8f550e37",
       "version_major": 2,
       "version_minor": 0
      },
      "text/plain": [
       "  0%|          | 0/18 [00:00<?, ?it/s]"
      ]
     },
     "metadata": {},
     "output_type": "display_data"
    },
    {
     "name": "stdout",
     "output_type": "stream",
     "text": [
      "{'eval_loss': 0.03526657819747925, 'eval_runtime': 7.8921, 'eval_samples_per_second': 4.435, 'eval_steps_per_second': 2.281, 'epoch': 9.69}\n",
      "{'loss': 0.0061, 'grad_norm': 0.1033935546875, 'learning_rate': 9.716157205240175e-06, 'epoch': 9.72}\n",
      "{'loss': 0.0083, 'grad_norm': 0.11806988716125488, 'learning_rate': 9.60698689956332e-06, 'epoch': 9.74}\n",
      "{'loss': 0.0078, 'grad_norm': 0.13187193870544434, 'learning_rate': 9.497816593886463e-06, 'epoch': 9.77}\n",
      "{'loss': 0.0063, 'grad_norm': 0.09059267491102219, 'learning_rate': 9.388646288209607e-06, 'epoch': 9.79}\n",
      "{'loss': 0.0063, 'grad_norm': 0.09589305520057678, 'learning_rate': 9.279475982532752e-06, 'epoch': 9.82}\n",
      "{'loss': 0.0052, 'grad_norm': 0.08579809218645096, 'learning_rate': 9.170305676855896e-06, 'epoch': 9.85}\n",
      "{'loss': 0.0077, 'grad_norm': 0.11941957473754883, 'learning_rate': 9.06113537117904e-06, 'epoch': 9.87}\n",
      "{'loss': 0.0073, 'grad_norm': 0.11673085391521454, 'learning_rate': 8.951965065502184e-06, 'epoch': 9.9}\n",
      "{'loss': 0.0092, 'grad_norm': 0.1448756754398346, 'learning_rate': 8.842794759825328e-06, 'epoch': 9.92}\n"
     ]
    },
    {
     "data": {
      "application/vnd.jupyter.widget-view+json": {
       "model_id": "6ad3d2ff88bb4d8382722575711b893b",
       "version_major": 2,
       "version_minor": 0
      },
      "text/plain": [
       "  0%|          | 0/18 [00:00<?, ?it/s]"
      ]
     },
     "metadata": {},
     "output_type": "display_data"
    },
    {
     "name": "stdout",
     "output_type": "stream",
     "text": [
      "{'eval_loss': 0.03567251190543175, 'eval_runtime': 7.9139, 'eval_samples_per_second': 4.423, 'eval_steps_per_second': 2.274, 'epoch': 9.92}\n",
      "{'loss': 0.0074, 'grad_norm': 0.11185193806886673, 'learning_rate': 8.733624454148471e-06, 'epoch': 9.95}\n",
      "{'loss': 0.007, 'grad_norm': 0.12544207274913788, 'learning_rate': 8.624454148471617e-06, 'epoch': 9.97}\n",
      "{'loss': 0.007, 'grad_norm': 0.11416370421648026, 'learning_rate': 8.51528384279476e-06, 'epoch': 10.0}\n",
      "{'loss': 0.006, 'grad_norm': 0.09654178470373154, 'learning_rate': 8.406113537117905e-06, 'epoch': 10.03}\n",
      "{'loss': 0.0077, 'grad_norm': 0.13109420239925385, 'learning_rate': 8.296943231441049e-06, 'epoch': 10.05}\n",
      "{'loss': 0.0067, 'grad_norm': 0.11466565728187561, 'learning_rate': 8.187772925764192e-06, 'epoch': 10.08}\n",
      "{'loss': 0.0068, 'grad_norm': 0.10791613161563873, 'learning_rate': 8.078602620087337e-06, 'epoch': 10.1}\n",
      "{'loss': 0.0067, 'grad_norm': 0.10160886496305466, 'learning_rate': 7.969432314410481e-06, 'epoch': 10.13}\n",
      "{'loss': 0.0065, 'grad_norm': 0.10702384263277054, 'learning_rate': 7.860262008733626e-06, 'epoch': 10.15}\n"
     ]
    },
    {
     "data": {
      "application/vnd.jupyter.widget-view+json": {
       "model_id": "477da0ed18f244a6b3c724f3c2102476",
       "version_major": 2,
       "version_minor": 0
      },
      "text/plain": [
       "  0%|          | 0/18 [00:00<?, ?it/s]"
      ]
     },
     "metadata": {},
     "output_type": "display_data"
    },
    {
     "name": "stdout",
     "output_type": "stream",
     "text": [
      "{'eval_loss': 0.03629060089588165, 'eval_runtime': 7.9233, 'eval_samples_per_second': 4.417, 'eval_steps_per_second': 2.272, 'epoch': 10.15}\n",
      "{'loss': 0.0057, 'grad_norm': 0.09074527770280838, 'learning_rate': 7.751091703056768e-06, 'epoch': 10.18}\n",
      "{'loss': 0.0072, 'grad_norm': 0.11449994146823883, 'learning_rate': 7.641921397379913e-06, 'epoch': 10.21}\n",
      "{'loss': 0.0062, 'grad_norm': 0.11094842851161957, 'learning_rate': 7.532751091703057e-06, 'epoch': 10.23}\n",
      "{'loss': 0.0062, 'grad_norm': 0.10631006211042404, 'learning_rate': 7.423580786026202e-06, 'epoch': 10.26}\n",
      "{'loss': 0.0079, 'grad_norm': 0.13529808819293976, 'learning_rate': 7.314410480349346e-06, 'epoch': 10.28}\n",
      "{'loss': 0.0064, 'grad_norm': 0.11821233481168747, 'learning_rate': 7.205240174672489e-06, 'epoch': 10.31}\n",
      "{'loss': 0.0076, 'grad_norm': 0.12475083768367767, 'learning_rate': 7.096069868995633e-06, 'epoch': 10.33}\n",
      "{'loss': 0.0055, 'grad_norm': 0.08626186102628708, 'learning_rate': 6.986899563318778e-06, 'epoch': 10.36}\n",
      "{'loss': 0.0071, 'grad_norm': 0.11418885737657547, 'learning_rate': 6.877729257641921e-06, 'epoch': 10.38}\n"
     ]
    },
    {
     "data": {
      "application/vnd.jupyter.widget-view+json": {
       "model_id": "99e1b33fad414356b912539f91563656",
       "version_major": 2,
       "version_minor": 0
      },
      "text/plain": [
       "  0%|          | 0/18 [00:00<?, ?it/s]"
      ]
     },
     "metadata": {},
     "output_type": "display_data"
    },
    {
     "name": "stdout",
     "output_type": "stream",
     "text": [
      "{'eval_loss': 0.03708761930465698, 'eval_runtime': 7.9121, 'eval_samples_per_second': 4.424, 'eval_steps_per_second': 2.275, 'epoch': 10.38}\n",
      "{'loss': 0.0071, 'grad_norm': 0.11966906487941742, 'learning_rate': 6.768558951965067e-06, 'epoch': 10.41}\n",
      "{'loss': 0.0057, 'grad_norm': 0.10763388872146606, 'learning_rate': 6.65938864628821e-06, 'epoch': 10.44}\n",
      "{'loss': 0.0067, 'grad_norm': 0.10846075415611267, 'learning_rate': 6.550218340611354e-06, 'epoch': 10.46}\n",
      "{'loss': 0.0063, 'grad_norm': 0.1014314666390419, 'learning_rate': 6.441048034934498e-06, 'epoch': 10.49}\n",
      "{'loss': 0.0062, 'grad_norm': 0.11465197801589966, 'learning_rate': 6.3318777292576415e-06, 'epoch': 10.51}\n",
      "{'loss': 0.0081, 'grad_norm': 0.13375796377658844, 'learning_rate': 6.222707423580786e-06, 'epoch': 10.54}\n",
      "{'loss': 0.0071, 'grad_norm': 0.1308320015668869, 'learning_rate': 6.11353711790393e-06, 'epoch': 10.56}\n",
      "{'loss': 0.0075, 'grad_norm': 0.15154248476028442, 'learning_rate': 6.004366812227074e-06, 'epoch': 10.59}\n",
      "{'loss': 0.008, 'grad_norm': 0.128696009516716, 'learning_rate': 5.895196506550219e-06, 'epoch': 10.62}\n"
     ]
    },
    {
     "data": {
      "application/vnd.jupyter.widget-view+json": {
       "model_id": "6e11003154354d03af1497398bd59c2c",
       "version_major": 2,
       "version_minor": 0
      },
      "text/plain": [
       "  0%|          | 0/18 [00:00<?, ?it/s]"
      ]
     },
     "metadata": {},
     "output_type": "display_data"
    },
    {
     "name": "stdout",
     "output_type": "stream",
     "text": [
      "{'eval_loss': 0.03729933872818947, 'eval_runtime': 7.9092, 'eval_samples_per_second': 4.425, 'eval_steps_per_second': 2.276, 'epoch': 10.62}\n",
      "{'loss': 0.0066, 'grad_norm': 0.1117890402674675, 'learning_rate': 5.786026200873363e-06, 'epoch': 10.64}\n",
      "{'loss': 0.0096, 'grad_norm': 0.2915184795856476, 'learning_rate': 5.676855895196507e-06, 'epoch': 10.67}\n",
      "{'loss': 0.0081, 'grad_norm': 0.13219481706619263, 'learning_rate': 5.567685589519651e-06, 'epoch': 10.69}\n",
      "{'loss': 0.0077, 'grad_norm': 0.1312161535024643, 'learning_rate': 5.458515283842795e-06, 'epoch': 10.72}\n",
      "{'loss': 0.0066, 'grad_norm': 0.11756809055805206, 'learning_rate': 5.349344978165939e-06, 'epoch': 10.74}\n",
      "{'loss': 0.0096, 'grad_norm': 0.15973229706287384, 'learning_rate': 5.240174672489083e-06, 'epoch': 10.77}\n",
      "{'loss': 0.0057, 'grad_norm': 0.09541059285402298, 'learning_rate': 5.131004366812227e-06, 'epoch': 10.79}\n",
      "{'loss': 0.0065, 'grad_norm': 0.1115083247423172, 'learning_rate': 5.021834061135372e-06, 'epoch': 10.82}\n",
      "{'loss': 0.0072, 'grad_norm': 0.11402476578950882, 'learning_rate': 4.912663755458515e-06, 'epoch': 10.85}\n"
     ]
    },
    {
     "data": {
      "application/vnd.jupyter.widget-view+json": {
       "model_id": "8366bccb47774b548b60cb507baa4145",
       "version_major": 2,
       "version_minor": 0
      },
      "text/plain": [
       "  0%|          | 0/18 [00:00<?, ?it/s]"
      ]
     },
     "metadata": {},
     "output_type": "display_data"
    },
    {
     "name": "stdout",
     "output_type": "stream",
     "text": [
      "{'eval_loss': 0.03685248643159866, 'eval_runtime': 7.8526, 'eval_samples_per_second': 4.457, 'eval_steps_per_second': 2.292, 'epoch': 10.85}\n",
      "{'loss': 0.0073, 'grad_norm': 0.12184882164001465, 'learning_rate': 4.80349344978166e-06, 'epoch': 10.87}\n",
      "{'loss': 0.0066, 'grad_norm': 0.11019572615623474, 'learning_rate': 4.694323144104804e-06, 'epoch': 10.9}\n",
      "{'loss': 0.0073, 'grad_norm': 0.12549112737178802, 'learning_rate': 4.585152838427948e-06, 'epoch': 10.92}\n",
      "{'loss': 0.0046, 'grad_norm': 0.07486283779144287, 'learning_rate': 4.475982532751092e-06, 'epoch': 10.95}\n",
      "{'loss': 0.0083, 'grad_norm': 0.13604594767093658, 'learning_rate': 4.3668122270742355e-06, 'epoch': 10.97}\n",
      "{'loss': 0.0063, 'grad_norm': 0.10138101130723953, 'learning_rate': 4.25764192139738e-06, 'epoch': 11.0}\n",
      "{'loss': 0.0051, 'grad_norm': 0.08771489560604095, 'learning_rate': 4.1484716157205246e-06, 'epoch': 11.03}\n",
      "{'loss': 0.0068, 'grad_norm': 0.10689647495746613, 'learning_rate': 4.039301310043668e-06, 'epoch': 11.05}\n",
      "{'loss': 0.0057, 'grad_norm': 0.08591124415397644, 'learning_rate': 3.930131004366813e-06, 'epoch': 11.08}\n"
     ]
    },
    {
     "data": {
      "application/vnd.jupyter.widget-view+json": {
       "model_id": "17fe17e2f9f642a990bdaf336b4ec574",
       "version_major": 2,
       "version_minor": 0
      },
      "text/plain": [
       "  0%|          | 0/18 [00:00<?, ?it/s]"
      ]
     },
     "metadata": {},
     "output_type": "display_data"
    },
    {
     "name": "stdout",
     "output_type": "stream",
     "text": [
      "{'eval_loss': 0.036710746586322784, 'eval_runtime': 7.9277, 'eval_samples_per_second': 4.415, 'eval_steps_per_second': 2.271, 'epoch': 11.08}\n",
      "{'loss': 0.0065, 'grad_norm': 0.09465700387954712, 'learning_rate': 3.8209606986899565e-06, 'epoch': 11.1}\n",
      "{'loss': 0.0055, 'grad_norm': 0.08458106964826584, 'learning_rate': 3.711790393013101e-06, 'epoch': 11.13}\n",
      "{'loss': 0.0076, 'grad_norm': 0.1208738312125206, 'learning_rate': 3.6026200873362447e-06, 'epoch': 11.15}\n",
      "{'loss': 0.0068, 'grad_norm': 0.10935378819704056, 'learning_rate': 3.493449781659389e-06, 'epoch': 11.18}\n",
      "{'loss': 0.0057, 'grad_norm': 0.08045026659965515, 'learning_rate': 3.3842794759825334e-06, 'epoch': 11.21}\n",
      "{'loss': 0.0057, 'grad_norm': 0.09953174740076065, 'learning_rate': 3.275109170305677e-06, 'epoch': 11.23}\n",
      "{'loss': 0.0057, 'grad_norm': 0.10571280866861343, 'learning_rate': 3.1659388646288207e-06, 'epoch': 11.26}\n",
      "{'loss': 0.0063, 'grad_norm': 0.10685426741838455, 'learning_rate': 3.056768558951965e-06, 'epoch': 11.28}\n",
      "{'loss': 0.0061, 'grad_norm': 0.1048821434378624, 'learning_rate': 2.9475982532751094e-06, 'epoch': 11.31}\n"
     ]
    },
    {
     "data": {
      "application/vnd.jupyter.widget-view+json": {
       "model_id": "5a15db2baf8b478bb126076d19b73556",
       "version_major": 2,
       "version_minor": 0
      },
      "text/plain": [
       "  0%|          | 0/18 [00:00<?, ?it/s]"
      ]
     },
     "metadata": {},
     "output_type": "display_data"
    },
    {
     "name": "stdout",
     "output_type": "stream",
     "text": [
      "{'eval_loss': 0.0367189422249794, 'eval_runtime': 7.9233, 'eval_samples_per_second': 4.417, 'eval_steps_per_second': 2.272, 'epoch': 11.31}\n",
      "{'loss': 0.0073, 'grad_norm': 0.11813624203205109, 'learning_rate': 2.8384279475982535e-06, 'epoch': 11.33}\n",
      "{'loss': 0.0063, 'grad_norm': 0.10948128253221512, 'learning_rate': 2.7292576419213976e-06, 'epoch': 11.36}\n",
      "{'loss': 0.006, 'grad_norm': 0.10305909812450409, 'learning_rate': 2.6200873362445413e-06, 'epoch': 11.38}\n",
      "{'loss': 0.0071, 'grad_norm': 0.10785829275846481, 'learning_rate': 2.510917030567686e-06, 'epoch': 11.41}\n",
      "{'loss': 0.0068, 'grad_norm': 0.11582797020673752, 'learning_rate': 2.40174672489083e-06, 'epoch': 11.44}\n",
      "{'loss': 0.0083, 'grad_norm': 0.13862895965576172, 'learning_rate': 2.292576419213974e-06, 'epoch': 11.46}\n",
      "{'loss': 0.0068, 'grad_norm': 0.11146799474954605, 'learning_rate': 2.1834061135371177e-06, 'epoch': 11.49}\n",
      "{'loss': 0.0084, 'grad_norm': 0.1395888477563858, 'learning_rate': 2.0742358078602623e-06, 'epoch': 11.51}\n",
      "{'loss': 0.0057, 'grad_norm': 0.09800661355257034, 'learning_rate': 1.9650655021834064e-06, 'epoch': 11.54}\n"
     ]
    },
    {
     "data": {
      "application/vnd.jupyter.widget-view+json": {
       "model_id": "36d9af52931e4fc588262dcbff408582",
       "version_major": 2,
       "version_minor": 0
      },
      "text/plain": [
       "  0%|          | 0/18 [00:00<?, ?it/s]"
      ]
     },
     "metadata": {},
     "output_type": "display_data"
    },
    {
     "name": "stdout",
     "output_type": "stream",
     "text": [
      "{'eval_loss': 0.03691587597131729, 'eval_runtime': 7.9068, 'eval_samples_per_second': 4.427, 'eval_steps_per_second': 2.277, 'epoch': 11.54}\n",
      "{'loss': 0.0069, 'grad_norm': 0.12172950059175491, 'learning_rate': 1.8558951965065505e-06, 'epoch': 11.56}\n",
      "{'loss': 0.0081, 'grad_norm': 0.13706372678279877, 'learning_rate': 1.7467248908296944e-06, 'epoch': 11.59}\n",
      "{'loss': 0.0067, 'grad_norm': 0.11949306726455688, 'learning_rate': 1.6375545851528385e-06, 'epoch': 11.62}\n",
      "{'loss': 0.0074, 'grad_norm': 0.14043323695659637, 'learning_rate': 1.5283842794759824e-06, 'epoch': 11.64}\n",
      "{'loss': 0.0077, 'grad_norm': 0.14101247489452362, 'learning_rate': 1.4192139737991267e-06, 'epoch': 11.67}\n",
      "{'loss': 0.007, 'grad_norm': 0.11888639628887177, 'learning_rate': 1.3100436681222706e-06, 'epoch': 11.69}\n",
      "{'loss': 0.0077, 'grad_norm': 0.12010487914085388, 'learning_rate': 1.200873362445415e-06, 'epoch': 11.72}\n",
      "{'loss': 0.0065, 'grad_norm': 0.11477198451757431, 'learning_rate': 1.0917030567685589e-06, 'epoch': 11.74}\n",
      "{'loss': 0.0077, 'grad_norm': 0.12210994958877563, 'learning_rate': 9.825327510917032e-07, 'epoch': 11.77}\n"
     ]
    },
    {
     "data": {
      "application/vnd.jupyter.widget-view+json": {
       "model_id": "d28ede0b8ddd4b4c84cc63689a11d8c1",
       "version_major": 2,
       "version_minor": 0
      },
      "text/plain": [
       "  0%|          | 0/18 [00:00<?, ?it/s]"
      ]
     },
     "metadata": {},
     "output_type": "display_data"
    },
    {
     "name": "stdout",
     "output_type": "stream",
     "text": [
      "{'eval_loss': 0.03712288662791252, 'eval_runtime': 7.9431, 'eval_samples_per_second': 4.406, 'eval_steps_per_second': 2.266, 'epoch': 11.77}\n",
      "{'loss': 0.0048, 'grad_norm': 0.0814783051609993, 'learning_rate': 8.733624454148472e-07, 'epoch': 11.79}\n",
      "{'loss': 0.0065, 'grad_norm': 0.10069309175014496, 'learning_rate': 7.641921397379912e-07, 'epoch': 11.82}\n",
      "{'loss': 0.006, 'grad_norm': 0.09762673079967499, 'learning_rate': 6.550218340611353e-07, 'epoch': 11.85}\n",
      "{'loss': 0.0064, 'grad_norm': 0.10766149312257767, 'learning_rate': 5.458515283842794e-07, 'epoch': 11.87}\n",
      "{'loss': 0.0077, 'grad_norm': 0.1331329196691513, 'learning_rate': 4.366812227074236e-07, 'epoch': 11.9}\n",
      "{'loss': 0.0061, 'grad_norm': 0.1034250557422638, 'learning_rate': 3.2751091703056766e-07, 'epoch': 11.92}\n",
      "{'loss': 0.0065, 'grad_norm': 0.1075541079044342, 'learning_rate': 2.183406113537118e-07, 'epoch': 11.95}\n",
      "{'loss': 0.0073, 'grad_norm': 0.23750033974647522, 'learning_rate': 1.091703056768559e-07, 'epoch': 11.97}\n",
      "{'loss': 0.0058, 'grad_norm': 0.09259794652462006, 'learning_rate': 0.0, 'epoch': 12.0}\n"
     ]
    },
    {
     "data": {
      "application/vnd.jupyter.widget-view+json": {
       "model_id": "057aede1196d4585b9aa9ebffc3740fd",
       "version_major": 2,
       "version_minor": 0
      },
      "text/plain": [
       "  0%|          | 0/18 [00:00<?, ?it/s]"
      ]
     },
     "metadata": {},
     "output_type": "display_data"
    },
    {
     "name": "stdout",
     "output_type": "stream",
     "text": [
      "{'eval_loss': 0.0371207669377327, 'eval_runtime': 7.9475, 'eval_samples_per_second': 4.404, 'eval_steps_per_second': 2.265, 'epoch': 12.0}\n",
      "{'train_runtime': 3363.6796, 'train_samples_per_second': 1.113, 'train_steps_per_second': 0.139, 'train_loss': 0.0675453081056396, 'epoch': 12.0}\n"
     ]
    }
   ],
   "source": [
    "trainer_stats = trainer.train()\n",
    "model = trainer.model"
   ]
  },
  {
   "cell_type": "code",
   "execution_count": 21,
   "metadata": {},
   "outputs": [
    {
     "name": "stdout",
     "output_type": "stream",
     "text": [
      "### INSTRUCTION:\n",
      "Вы учитель и вы должны на русском языке давать подсказки без прямых исправлений кода, поддерживая формальный и дружелюбный стиль общения\n",
      "\n",
      "### ОСНОВНАЯ ЗАДАЧА ДЛЯ СТУДЕНТА:\n",
      "Реализуйте программу, которая напечатает хэштеги из фраз для лендинга сайта: \n",
      "\n",
      "В переменную logo считывается текст лендинга. Этот код уже написан.\n",
      "Программа проверяет, есть ли в этом тексте хэштеги.  Хэштегами можно считать все элементы, которые начинаются со знака \"#\" и которые не состоят только из цифр (не включая знак \"#\"). Гарантируется, что хэштеги отделены от другого текста пробелом. \n",
      "В конце программа печатает все хэштеги через запятую с пробелом. Хэштеги выводятся в том же порядке, в котором они идут в тексте.\n",
      "Если знаков хэштегов в тексте нет, то программа ничего не печатает.\n",
      "\n",
      "### ВЕРНОЕ РЕШЕНИЕ АВТОРА:\n",
      "```python\n",
      "logo = input()\n",
      "\n",
      "res = []\n",
      "for info in logo.split():\n",
      "    if info.startswith('#') and info[1:].isdigit() == False:      \n",
      "        res.append(info)\n",
      "        \n",
      "print(*res, sep=', ')\n",
      "```\n",
      "\n",
      "### ВЕРНЫЕ ОТВЕТЫ НА UNIT ТЕСТЫ:\n",
      "Тип теста                                                                                           Вход          Верный вывод программы\n",
      "     open Выучите китайский язык без усилий выполняя задания в приложении ( #the_best_app ) за #20 дней.                   #the_best_app\n",
      "     open                  Ваш вопрос ( #question ) - наш ответ ( #answer ) ! Мы всегда с Вами yf #100 %              #question, #answer\n",
      "     open                                                               Мощный рывок для Вашего @бизнеса                             NaN\n",
      "   closed                                         Я никогда не был #счастье1 #любовь123 #123_123 qwe#qwe #счастье1, #любовь123, #123_123\n",
      "   closed                                       9 из 10 экспертов рекомендуют # наш #_1223 продукт #__ .                  #, #_1223, #__\n",
      "   closed                                        # #123 #qswr_1 @qws1 $1#qwd 1#123_qwe #0 #____ #$567123     #, #qswr_1, #____, #$567123\n",
      "\n",
      "### НЕВЕРНОЕ РЕШЕНИЕ СТУДЕНТА:\n",
      "```python\n",
      "logo = input()\n",
      "\n",
      "res = []\n",
      "for info in logo.split():\n",
      "    if info.startswith('#') and info[1:].isdigit() == False:      \n",
      "        res.append(info)\n",
      "        \n",
      "print(*res)\n",
      "```\n",
      "\n",
      "### КОММЕНТАРИИ К НЕВЕРНОМУ РЕШЕНИЮ:\n",
      "Ошибка в открытых и скрытых тестах. \n",
      "\n",
      "Ваш код не проверяет все условия задания. Так, он некорректно выполняет условие \"\"В конце программа печатает все хэштеги через запятую с пробелом\"\". Дополните функцию print(), чтобы выполнить данное условие.\n"
     ]
    }
   ],
   "source": [
    "FastLanguageModel.for_inference(model)\n",
    "ix = 41\n",
    "inputs = tokenizer(\n",
    "[\n",
    "    prompt.format(\n",
    "        df_train.iloc[ix]['system'],\n",
    "        df_train.iloc[ix]['description'],\n",
    "        df_train.iloc[ix]['author_solution'],\n",
    "        df_train.iloc[ix]['unit_true'],\n",
    "        df_train.iloc[ix]['student_solution'],\n",
    "        '',\n",
    "    )\n",
    "], return_tensors = \"pt\").to(\"cuda\")\n",
    "\n",
    "outputs = model.generate(**inputs, max_new_tokens = 256, use_cache = True)\n",
    "print(tokenizer.decode(outputs[0], skip_special_tokens=True))"
   ]
  },
  {
   "cell_type": "code",
   "execution_count": 22,
   "metadata": {},
   "outputs": [
    {
     "name": "stdout",
     "output_type": "stream",
     "text": [
      "Ошибка в открытых и скрытых тестах. \n",
      "\n",
      "Ваш код не проверяет все условия задания. Например, он некорректно выполняет условие \"В конце программа печатает все хэштеги через запятую с пробелом\". Дополните функцию print(), чтобы выполнить данное условие.\n"
     ]
    }
   ],
   "source": [
    "print(df_train.iloc[ix]['author_comment'])"
   ]
  },
  {
   "cell_type": "code",
   "execution_count": 17,
   "metadata": {},
   "outputs": [
    {
     "data": {
      "text/plain": [
       "('gemma-2-9b/tokenizer_config.json',\n",
       " 'gemma-2-9b/special_tokens_map.json',\n",
       " 'gemma-2-9b/tokenizer.model',\n",
       " 'gemma-2-9b/added_tokens.json',\n",
       " 'gemma-2-9b/tokenizer.json')"
      ]
     },
     "execution_count": 17,
     "metadata": {},
     "output_type": "execute_result"
    }
   ],
   "source": [
    "model.save_pretrained(\"./../gemma-2-9b\")\n",
    "tokenizer.save_pretrained(\"./../gemma-2-9b\")"
   ]
  },
  {
   "cell_type": "code",
   "execution_count": null,
   "metadata": {},
   "outputs": [],
   "source": []
  }
 ],
 "metadata": {
  "kernelspec": {
   "display_name": "unsloth",
   "language": "python",
   "name": "python3"
  },
  "language_info": {
   "codemirror_mode": {
    "name": "ipython",
    "version": 3
   },
   "file_extension": ".py",
   "mimetype": "text/x-python",
   "name": "python",
   "nbconvert_exporter": "python",
   "pygments_lexer": "ipython3",
   "version": "3.11.9"
  }
 },
 "nbformat": 4,
 "nbformat_minor": 2
}
